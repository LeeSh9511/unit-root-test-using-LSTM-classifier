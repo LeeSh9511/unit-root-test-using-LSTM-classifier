{
 "cells": [
  {
   "cell_type": "code",
   "execution_count": 1,
   "id": "962bf019",
   "metadata": {},
   "outputs": [
    {
     "data": {
      "text/plain": [
       "{'divide': 'warn', 'over': 'warn', 'under': 'ignore', 'invalid': 'warn'}"
      ]
     },
     "execution_count": 1,
     "metadata": {},
     "output_type": "execute_result"
    }
   ],
   "source": [
    "from keras.callbacks import EarlyStopping\n",
    "from pmdarima.utils import diff_inv\n",
    "import statsmodels.api as sm\n",
    "import statsmodels\n",
    "import itertools\n",
    "import numpy as np\n",
    "import pandas as pd\n",
    "import tensorflow as tf\n",
    "from tensorflow.keras.layers import LSTM,Dense\n",
    "from tensorflow.keras.models import Sequential,load_model\n",
    "from statsmodels.tsa.arima_process import arma_generate_sample\n",
    "from tensorflow.keras.callbacks import ModelCheckpoint\n",
    "from keras.callbacks import EarlyStopping\n",
    "from tensorflow import keras\n",
    "from collections import Counter\n",
    "import random\n",
    "%matplotlib inline\n",
    "import matplotlib\n",
    "import matplotlib.pyplot as plt\n",
    "import warnings\n",
    "warnings.filterwarnings(\"ignore\")\n",
    "np.seterr(divide='ignore')"
   ]
  },
  {
   "cell_type": "markdown",
   "id": "9d6b5f65",
   "metadata": {},
   "source": [
    "cin=np.concatenate((c1in,c2in,c3in,c4in,c5in,c6in),axis=0)\n",
    "coutb=np.concatenate((c1outb,c2outb,c3outb,c4outb,c5outb,c6outb),axis=0)\n",
    "coutm=np.concatenate((c1outm,c2outm,c3outm,c4outm,c5outm,c6outm),axis=0)\n",
    "export_df(cin,'cin')\n",
    "export_df(coutb,'coutb')\n",
    "export_df(coutb,'coutb')"
   ]
  },
  {
   "cell_type": "code",
   "execution_count": 33,
   "id": "3af99f85",
   "metadata": {},
   "outputs": [],
   "source": [
    "def arima_sim(ar,ma,diff_order,nsample):\n",
    "    if diff_order ==0:\n",
    "        sample=arma_generate_sample(ar=ar,ma=ma,nsample=nsample)\n",
    "    elif diff_order==1:\n",
    "        x=arma_generate_sample(ar=ar,ma=ma,nsample=nsample)\n",
    "        sample=diff_inv(x,lag=1,differences=diff_order)[1:]\n",
    "    elif diff_order==2:\n",
    "        x=arma_generate_sample(ar=ar,ma=ma,nsample=nsample) ## 하늘 바라기 하늘만 멍하니 가장 큰 하늘이 있잖아. 그대가 \n",
    "        sample=diff_inv(x,lag=1,differences=diff_order)[2:] ## 아니 잠시만 씨발 이게 무슨 일이여 diff_inv잘못 짰는디?\n",
    "    return sample\n",
    "\n",
    "def acc_cal(test,true):\n",
    "    assert test.shape==true.shape\n",
    "    cnt=0\n",
    "    length=true.shape[-1]\n",
    "    for x,y in zip(test,true):\n",
    "        if sum(x==y)==length:\n",
    "            cnt+=1\n",
    "    return cnt/true.shape[0]\n",
    "\n",
    "def to_put(array,timesteps):\n",
    "    array=array[:,:timesteps]\n",
    "    array=array.reshape((array.shape[0],array.shape[1],1))\n",
    "    return array\n",
    "\n",
    "def to_in(series,timesteps):\n",
    "    series=series[:timesteps]\n",
    "    series=series.reshape(1,timesteps,1)\n",
    "    return series\n",
    "\n",
    "def data_split(array,split_1,split_2):\n",
    "    trset=array[:split_1]\n",
    "    valset=array[split_1:split_2]\n",
    "    teset=array[split_2:]\n",
    "    return trset,valset,teset\n",
    "\n",
    "def load_d2set(p1,p2,split_1,split_2):\n",
    "    # \n",
    "    inputs=pd.read_csv('c:/data/dataset/din_{}_{}.csv'.format(p1,p2),header=None).to_numpy()\n",
    "    outb=pd.read_csv('c:/data/dataset/doutb_{}_{}.csv'.format(p1,p2),header=None).to_numpy()\n",
    "    outm=pd.read_csv('c:/data/dataset/doutm_{}_{}.csv'.format(p1,p2),header=None).to_numpy()\n",
    "    #\n",
    "    return data_split(inputs,split_1,split_2),data_split(outb,split_1,split_2),data_split(outm,split_1,split_2)\n",
    "# in ,outb,outm순\n",
    "def load_c2set(p1,p2,split_1,split_2):\n",
    "    # \n",
    "    inputs=pd.read_csv('c:/data/dataset/cin_{}_{}.csv'.format(p1,p2),header=None).to_numpy()\n",
    "    outb=pd.read_csv('c:/data/dataset/coutb_{}_{}.csv'.format(p1,p2),header=None).to_numpy()\n",
    "    outm=pd.read_csv('c:/data/dataset/coutm_{}_{}.csv'.format(p1,p2),header=None).to_numpy()\n",
    "    #\n",
    "    return data_split(inputs,split_1,split_2),data_split(outb,split_1,split_2),data_split(outm,split_1,split_2)\n",
    "\n",
    "def export_df(array,name):\n",
    "    df=pd.DataFrame(array)\n",
    "    basic_direc=r\"c:/data/dataset/\"\n",
    "    direc=basic_direc+name+\".csv\"\n",
    "    df.to_csv(direc,index=None,header=False)\n",
    "        \n",
    "def shuffle_rows(arr):\n",
    "    shuffled_arr = arr.copy()\n",
    "    np.random.shuffle(shuffled_arr)\n",
    "    return shuffled_arr"
   ]
  },
  {
   "cell_type": "code",
   "execution_count": 3,
   "id": "2807ebdf",
   "metadata": {},
   "outputs": [],
   "source": [
    "def sort_ur(inputs):\n",
    "    indices_ur=[]\n",
    "    indices_stationary=[]\n",
    "    for i,x in enumerate(inputs):\n",
    "        if x[-1]==0:\n",
    "            indices_stationary.append(i)\n",
    "        else:\n",
    "            indices_ur.append(i)\n",
    "    return indices_ur,indices_stationary"
   ]
  },
  {
   "cell_type": "code",
   "execution_count": 5,
   "id": "37e85142",
   "metadata": {},
   "outputs": [],
   "source": [
    "## 사실 이게 병신코드임 idx만 뽑으면 다 노상관인데 ㅋㅋ\n",
    "def sort_H1(inputs,outputs): # sorting unit root series for calculating empirical size\n",
    "    inputs_sorted=[]\n",
    "    outputs_sorted=[]\n",
    "    indices=[]\n",
    "    for i,x,y in zip(range(len(inputs)),inputs,outputs):\n",
    "        if y[-1]==1:\n",
    "            inputs_sorted.append(x)\n",
    "            outputs_sorted.append(y)\n",
    "            indices.append(i)\n",
    "    inputs_sorted=np.array(inputs_sorted)\n",
    "    outputs_sorted=np.array(outputs_sorted)\n",
    "    return inputs_sorted,outputs_sorted,indices\n",
    "def sort_H0(inputs,outputs): # sorting unit root series for calculating empirical size\n",
    "    inputs_sorted=[]\n",
    "    outputs_sorted=[]\n",
    "    indices=[]\n",
    "    for i,x,y in zip(range(len(inputs)),inputs,outputs):\n",
    "        if y[-1]==0:\n",
    "            inputs_sorted.append(x)\n",
    "            outputs_sorted.append(y)\n",
    "            indices.append(i)\n",
    "    inputs_sorted=np.array(inputs_sorted)\n",
    "    outputs_sorted=np.array(outputs_sorted)\n",
    "    return inputs_sorted,outputs_sorted,indices"
   ]
  },
  {
   "cell_type": "code",
   "execution_count": 5,
   "id": "6e70b128",
   "metadata": {},
   "outputs": [],
   "source": [
    "## table은 기본적으로 binary classification 기준\n",
    "def  table_acc(model,input_set,output_set,adf_set):\n",
    "        result={}\n",
    "        classifier_acc=[]\n",
    "        for inputs,outputs in zip(input_set,output_set):\n",
    "            classifier_acc.append(np.round(model.evaluate(to_put(inputs,100),outputs)[1],3))\n",
    "        result['model']=classifier_acc\n",
    "\n",
    "        acc_adf1=[]\n",
    "        for adf,outputs in zip(adf_set,output_set):\n",
    "            acc_adf1.append(acc_cal(adf['1%']['bi'],outputs))\n",
    "        result['adf_1%']=acc_adf1    \n",
    "        acc_adf5=[]\n",
    "        for adf,outputs in zip(adf_set,output_set):\n",
    "            acc_adf5.append(acc_cal(adf['5%']['bi'],outputs))\n",
    "        result['adf_5%']=acc_adf5\n",
    "        acc_adf10=[]\n",
    "        for adf,outputs in zip(adf_set,output_set):\n",
    "            acc_adf10.append(acc_cal(adf['10%']['bi'],outputs))\n",
    "        result['adf_10%']=acc_adf10        \n",
    "        return result"
   ]
  },
  {
   "cell_type": "code",
   "execution_count": 6,
   "id": "766009e1",
   "metadata": {},
   "outputs": [],
   "source": [
    "## multi acc\n",
    "def  table_accm(model,input_set,output_set,adf_set):\n",
    "        result={}\n",
    "        classifier_acc=[]\n",
    "        for inputs,outputs in zip(input_set,output_set):\n",
    "            classifier_acc.append(np.round(model.evaluate(to_put(inputs,100),outputs)[1],3))\n",
    "        result['model']=classifier_acc\n",
    "        acc_adf1=[]\n",
    "        for adf,outputs in zip(adf_set,output_set):\n",
    "            acc_adf1.append(acc_cal(adf['1%']['multi'],outputs))\n",
    "        result['adf_1%']=acc_adf1    \n",
    "        acc_adf5=[]\n",
    "        for adf,outputs in zip(adf_set,output_set):\n",
    "            acc_adf5.append(acc_cal(adf['5%']['multi'],outputs))\n",
    "        result['adf_5%']=acc_adf5\n",
    "        acc_adf10=[]\n",
    "        for adf,outputs in zip(adf_set,output_set):\n",
    "            acc_adf10.append(acc_cal(adf['10%']['multi'],outputs))\n",
    "        result['adf_10%']=acc_adf10        \n",
    "        return result"
   ]
  },
  {
   "cell_type": "markdown",
   "id": "6ce9c721",
   "metadata": {},
   "source": [
    "### zin adf"
   ]
  },
  {
   "cell_type": "code",
   "execution_count": 34,
   "id": "57ef41f2",
   "metadata": {},
   "outputs": [],
   "source": [
    "def adf_rtest(array): #두 번의 adf test에서 같은 significance level 사용/sig=0 => 1%/ sig=1=>5%/sig=2 => 10%\n",
    "    array=array[:,:100] # \n",
    "    assert array.shape[1]\n",
    "    adf_test_result={}\n",
    "    critical_value=sm.tsa.adfuller(array[0,:100],regression='n')[4]\n",
    "#    critical_value={'1%':-2.33,'5%':-1.65,'10%':-1.28}\n",
    "    for sig_level in ['1%','5%','10%']: # critical value at sig.level 1%,5%,10% each\n",
    "        dic=defaultdict(np.array)\n",
    "        bi=[]\n",
    "        multi=[]\n",
    "        for i in range(0,array.shape[0]):\n",
    "            test_result=sm.tsa.adfuller(array[i],regression='n')\n",
    "            tval=test_result[0]\n",
    "            c_value=critical_value[sig_level]\n",
    "            if tval>=c_value:\n",
    "                bi.append([1,0])\n",
    "                tval_diff=sm.tsa.adfuller(np.diff(array[i]),regression='n')[0]\n",
    "                if tval_diff>=c_value:\n",
    "                    multi.append([1,0,0]) ## diff order 2\n",
    "                else:\n",
    "                    multi.append([0,1,0]) ## diff order 1\n",
    "            else:\n",
    "                bi.append([0,1])\n",
    "                multi.append([0,0,1])\n",
    "        dic['bi']=np.array(bi)\n",
    "        dic['multi']=np.array(multi)\n",
    "        #\n",
    "        adf_test_result[sig_level]=dic\n",
    "    return adf_test_result"
   ]
  },
  {
   "cell_type": "code",
   "execution_count": 7,
   "id": "f9786d80",
   "metadata": {},
   "outputs": [],
   "source": [
    "def adf_test(array): #두 번의 adf test에서 같은 significance level 사용/sig=0 => 1%/ sig=1=>5%/sig=2 => 10%\n",
    "    array=array[:,:100] # \n",
    "    assert array.shape[1]\n",
    "    adf_test_result={}\n",
    "    critical_value={'1%':-2.33,'5%':-1.65,'10%':-1.28}\n",
    "    for sig_level in ['1%','5%','10%']: # critical value at sig.level 1%,5%,10% each\n",
    "        dic=defaultdict(np.array)\n",
    "        bi=[]\n",
    "        multi=[]\n",
    "        for i in range(0,array.shape[0]):\n",
    "            test_result=sm.tsa.adfuller(array[i],regression='n')\n",
    "            tval=test_result[0]\n",
    "            c_value=critical_value[sig_level]\n",
    "            if tval>=c_value:\n",
    "                bi.append([1,0])\n",
    "                tval_diff=sm.tsa.adfuller(np.diff(array[i]),regression='n')[0]\n",
    "                if tval_diff>=c_value:\n",
    "                    multi.append([1,0,0]) ## diff order 2\n",
    "                else:\n",
    "                    multi.append([0,1,0]) ## diff order 1\n",
    "            else:\n",
    "                bi.append([0,1])\n",
    "                multi.append([0,0,1])\n",
    "        dic['bi']=np.array(bi)\n",
    "        dic['multi']=np.array(multi)\n",
    "        #\n",
    "        adf_test_result[sig_level]=dic\n",
    "    return adf_test_result"
   ]
  },
  {
   "cell_type": "code",
   "execution_count": 8,
   "id": "aaa04dd3",
   "metadata": {},
   "outputs": [],
   "source": [
    "def model_size(model,inputs,outputs):\n",
    "    in0,out0,idx0=sort_H0(inputs,outputs)\n",
    "    size=np.round(np.sum(np.round(model.predict(to_put(in0,100))),axis=0)[1]/len(idx0),3)\n",
    "    return size\n",
    "def adf_size(adf,inputs,outputs,sig):\n",
    "    in0,out0,idx0=sort_H0(inputs,outputs)\n",
    "    size=np.round(np.sum(adf[sig]['bi'][idx0],axis=0)[1]/len(idx0),3)\n",
    "    return size\n",
    "def model_power(model,inputs,outputs):\n",
    "    in1,out1,idx1=sort_H1(inputs,outputs)\n",
    "    power=np.round(np.sum(np.round(model.predict(to_put(in1,100))),axis=0)[1]/len(idx1),3)\n",
    "    return power\n",
    "def adf_power(adf,inputs,outputs,sig):\n",
    "    in1,out1,idx1=sort_H1(inputs,outputs)\n",
    "    power=np.round(np.sum(adf[sig]['bi'][idx1],axis=0)[1]/len(idx1),3)\n",
    "    return power"
   ]
  },
  {
   "cell_type": "markdown",
   "id": "8010abb1",
   "metadata": {},
   "source": [
    "def  table_macc(model,input_set,output_set,adf_set):\n",
    "        result={}\n",
    "        classifier_acc=[]\n",
    "        for inputs,outputs in zip(input_set,output_set):\n",
    "            classifier_acc.append(np.round(model.evaluate(to_put(inputs[2],100),outputs[2])[1],3))\n",
    "        result['model']=classifier_acc\n",
    "\n",
    "        acc_adf1=[]\n",
    "        for adf,outputs in zip(adf_set,output_set):\n",
    "            acc_adf1.append(acc_cal(adf['1%']['multi'],outputs[2]))\n",
    "        result['adf_1%']=acc_adf1    \n",
    "        acc_adf5=[]\n",
    "        for adf,outputs in zip(adf_set,output_set):\n",
    "            acc_adf5.append(acc_cal(adf['5%']['multi'],outputs[2]))\n",
    "        result['adf_5%']=acc_adf5\n",
    "        acc_adf10=[]\n",
    "        for adf,outputs in zip(adf_set,output_set):\n",
    "            acc_adf10.append(acc_cal(adf['10%']['multi'],outputs[2]))\n",
    "        result['adf_10%']=acc_adf10\n",
    "        \n",
    "        return result"
   ]
  },
  {
   "cell_type": "code",
   "execution_count": 9,
   "id": "c40d5153",
   "metadata": {},
   "outputs": [],
   "source": [
    "def  table_size(model,input_set,output_set,adf_set):\n",
    "        result={}\n",
    "        classifier_size=[]\n",
    "        for inputs,outputs in zip(input_set,output_set):\n",
    "            classifier_size.append(model_size(model,inputs,outputs))\n",
    "        result['model']=classifier_size\n",
    "        size_adf1=[]\n",
    "        for adf,inputs,outputs in zip(adf_set,input_set,output_set):\n",
    "            size_adf1.append(adf_size(adf,inputs,outputs,'1%'))\n",
    "        result['adf_1%']=size_adf1\n",
    "        size_adf5=[]\n",
    "        for adf,inputs,outputs in zip(adf_set,input_set,output_set):\n",
    "            size_adf5.append(adf_size(adf,inputs,outputs,'5%'))\n",
    "        result['adf_5%']=size_adf5\n",
    "        size_adf10=[]\n",
    "        for adf,inputs,outputs in zip(adf_set,input_set,output_set):\n",
    "            size_adf10.append(adf_size(adf,inputs,outputs,'10%'))\n",
    "        result['adf_10%']=size_adf10\n",
    "        return result\n",
    "def adf_size(adf,inputs,outputs,sig):\n",
    "    in0,out0,idx0=sort_H0(inputs,outputs)\n",
    "    size=np.round(np.sum(adf[sig]['bi'][idx0],axis=0)[1]/len(idx0),3)\n",
    "    return size"
   ]
  },
  {
   "cell_type": "code",
   "execution_count": 10,
   "id": "637efa73",
   "metadata": {},
   "outputs": [],
   "source": [
    "def  table_power(model,input_set,output_set,adf_set):\n",
    "        result={}\n",
    "        classifier_power=[]\n",
    "        for inputs,outputs in zip(input_set,output_set):\n",
    "            classifier_power.append(model_power(model,inputs,outputs))\n",
    "        result['model']=classifier_power\n",
    "\n",
    "        power_adf1=[]\n",
    "        for adf,inputs,outputs in zip(adf_set,input_set,output_set):\n",
    "            power_adf1.append(adf_power(adf,inputs,outputs,'1%'))\n",
    "        result['adf_1%']=power_adf1\n",
    "        \n",
    "        power_adf5=[]\n",
    "        for adf,inputs,outputs in zip(adf_set,input_set,output_set):\n",
    "            power_adf5.append(adf_power(adf,inputs,outputs,'5%'))\n",
    "        result['adf_5%']=power_adf5\n",
    "        \n",
    "        power_adf10=[]\n",
    "        for adf,inputs,outputs in zip(adf_set,input_set,output_set):\n",
    "            power_adf10.append(adf_power(adf,inputs,outputs,'10%'))\n",
    "        result['adf_10%']=power_adf10\n",
    "        return result"
   ]
  },
  {
   "cell_type": "code",
   "execution_count": null,
   "id": "cb19f305",
   "metadata": {},
   "outputs": [],
   "source": [
    "## stationary\n",
    "series=arima_sim(ar=[1,-phi_1,-phi_2],ma=[1],diff_order=0,nsample=timesteps)\n",
    "            inputs[i]=np.concatenate((series,[phi_1,phi_2,0,0]))\n",
    "## case1\n",
    "series=arima_sim(ar=[1,-phi_1,-phi_2],ma=[1],diff_order=2,nsample=timesteps)\n",
    "## case2\n",
    "series1=arima_sim(ar=[1,-phi_1,-phi_2],ma=[1],diff_order=0,nsample=timesteps//2)\n",
    "series2=arima_sim(ar=[1,--phi_1,-phi_2],ma=[1],diff_order=2,nsample=timesteps-timesteps//2)+series1[-1]\n"
   ]
  },
  {
   "cell_type": "code",
   "execution_count": 40,
   "id": "f36fefde",
   "metadata": {},
   "outputs": [],
   "source": [
    "## code review해보자잉!\n",
    "def stationary_ar2():\n",
    "    while True:\n",
    "        phi1=np.random.uniform(-0.9,0.9)\n",
    "        phi2=np.random.uniform(-0.9,0.9)\n",
    "        if abs(phi2) < 1 and (phi1 + phi2) < 1 and (phi2 - phi1) < 1:\n",
    "            return phi1,phi2\n",
    "    \n",
    "def stationary_series_ar2(phi1,phi2,timesteps):\n",
    "    series=arima_sim(ar=[1,-phi1,-phi2],ma=[1],diff_order=0,nsample=timesteps)\n",
    "    inputs=np.concatenate((series,[phi1,phi2,0,0]))\n",
    "    return inputs\n",
    "def unitroot_series_1(phi1,phi2,diff_order,timesteps,case): # case 1 : 걍 단위근 시계열.\n",
    "    series=arima_sim(ar=[1,-phi1,-phi2],ma=[1],diff_order=diff_order,nsample=timesteps)\n",
    "    inputs=np.concatenate((series,[phi1,phi2,diff_order,1]))\n",
    "    return inputs\n",
    "def unitroot_series_2(phi1,phi2,diff_order,timesteps,case): # case 2 : 정상+비정상.\n",
    "    series1=arima_sim(ar=[1,-phi1,-phi2],ma=[1],diff_order=0,nsample=timesteps//2)\n",
    "    series2=arima_sim(ar=[1,--phi1,-phi2],ma=[1],diff_order=diff_order,nsample=timesteps-timesteps//2)+series1[-1]\n",
    "    series=np.append(series1,series2)\n",
    "    inputs=np.concatenate((series,[phi1,phi2,diff_order,2]))\n",
    "    return inputs\n",
    "\n",
    "def unitroot_series_3(phi1,phi2,diff_order,timesteps,case): # case 3 : 비정상+정상.\n",
    "    series1=arima_sim(ar=[1,-phi1,-phi2],ma=[1],diff_order=diff_order,nsample=timesteps//2)\n",
    "    series2=arima_sim(ar=[1,-phi1,-phi2],ma=[1],diff_order=0,nsample=timesteps-timesteps//2)+series1[-1]\n",
    "    series=np.append(series1,series2)\n",
    "    inputs=np.concatenate((series,[phi1,phi2,diff_order,3]))\n",
    "    return inputs"
   ]
  },
  {
   "cell_type": "code",
   "execution_count": 38,
   "id": "05d8a2b3",
   "metadata": {},
   "outputs": [],
   "source": [
    "# d일 떄는 그냥 combine 없으니까 case1으로 생성해주면 된다.\n",
    "# p: proportion of Ho dataset \n",
    "def dgenerator(n,p,timesteps):\n",
    "    inputs=[]\n",
    "    outputs_b=[]\n",
    "    outputs_m=[]\n",
    "    #\n",
    "    one=round(n*(1-p)) # stationary\n",
    "    zero=round(n*p) # unit root    \n",
    "    d1=d2=zero//2\n",
    "    #\n",
    "    while one:\n",
    "        one-=1\n",
    "        phi1,phi2=stationary_ar2()\n",
    "        series=stationary_series_ar2(phi1,phi2,100)\n",
    "        inputs.append(series)\n",
    "        outputs_b.append([0,1])\n",
    "        outputs_m.append([0,0,1])\n",
    "    diff_order=1\n",
    "    while d1:\n",
    "        d1-=1\n",
    "        phi1,phi2=stationary_ar2()\n",
    "        series=unitroot_series_1(phi1,phi2,diff_order,timesteps,1)\n",
    "        inputs.append(series)\n",
    "        outputs_b.append([1,0])\n",
    "        outputs_m.append([0,1,0])\n",
    "    diff_order=2\n",
    "    while d2:\n",
    "        d2-=1\n",
    "        phi1,phi2=stationary_ar2()\n",
    "        series=unitroot_series_1(phi1,phi2,diff_order,timesteps,1)\n",
    "        inputs.append(series)\n",
    "        outputs_b.append([1,0])\n",
    "        outputs_m.append([1,0,0])\n",
    "    #\n",
    "    inputs=np.array(inputs)\n",
    "    outputs_b=np.array(outputs_b)\n",
    "    outputs_m=np.array(outputs_m)\n",
    "    assert n==len(inputs)==len(outputs_b)==len(outputs_m)\n",
    "    idx = np.random.permutation(n)\n",
    "    inputs_shuffled=inputs[idx]\n",
    "    outputs_b_shuffled=outputs_b[idx]\n",
    "    outputs_m_shuffled=outputs_m[idx]\n",
    "    return inputs_shuffled,outputs_b_shuffled,outputs_m_shuffled"
   ]
  },
  {
   "cell_type": "code",
   "execution_count": 13,
   "id": "5ad2ad85",
   "metadata": {},
   "outputs": [],
   "source": [
    "# p: proportion of Ho dataset\n",
    "# case까지 딱 떨어지게 구상하자.\n",
    "# c6set n=10000,p=0.9 에서 무한루프\n",
    "def cgenerator(n,p,timesteps):\n",
    "    inputs=[]\n",
    "    outputs_b=[]\n",
    "    outputs_m=[]\n",
    "    #\n",
    "    one=round(n*(1-p)) # stationary\n",
    "    zero=round(n*p) # unit root    \n",
    "    d1=zero//2\n",
    "    d2=zero//2\n",
    "    #\n",
    "    d1c1=d1c2=d1c3=d1//3\n",
    "    #\n",
    "    d2c1=d2c2=d2c3=d2//3\n",
    "    #\n",
    "    while one:\n",
    "        one-=1\n",
    "        phi1,phi2=stationary_ar2()\n",
    "        series=stationary_series_ar2(phi1,phi2,100)\n",
    "        inputs.append(series)\n",
    "        outputs_b.append([0,1])\n",
    "        outputs_m.append([0,0,1])\n",
    "    \n",
    "    diff_order=1\n",
    "    while d1c1:\n",
    "        d1c1-=1\n",
    "        phi1,phi2=stationary_ar2()\n",
    "        series=unitroot_series_1(phi1,phi2,diff_order,timesteps,1)\n",
    "        inputs.append(series)\n",
    "        outputs_b.append([1,0])\n",
    "        outputs_m.append([0,1,0])\n",
    "        \n",
    "    while d1c2:\n",
    "        d1c2-=1\n",
    "        phi1,phi2=stationary_ar2()\n",
    "        series=unitroot_series_2(phi1,phi2,diff_order,timesteps,2)\n",
    "        inputs.append(series)\n",
    "        outputs_b.append([1,0])\n",
    "        outputs_m.append([0,1,0])\n",
    "        \n",
    "    while d1c3:\n",
    "        d1c3-=1\n",
    "        phi1,phi2=stationary_ar2()\n",
    "        series=unitroot_series_3(phi1,phi2,diff_order,timesteps,3)\n",
    "        inputs.append(series)\n",
    "        outputs_b.append([1,0])\n",
    "        outputs_m.append([0,1,0])\n",
    "        \n",
    "    diff_order=2\n",
    "    while d2c1:\n",
    "        d2c1-=1\n",
    "        phi1,phi2=stationary_ar2()\n",
    "        series=unitroot_series_1(phi1,phi2,diff_order,timesteps,1)\n",
    "        inputs.append(series)\n",
    "        outputs_b.append([1,0])\n",
    "        outputs_m.append([1,0,0])\n",
    "        \n",
    "    while d2c2:\n",
    "        d2c2-=1\n",
    "        phi1,phi2=stationary_ar2()\n",
    "        series=unitroot_series_2(phi1,phi2,diff_order,timesteps,2)\n",
    "        inputs.append(series)\n",
    "        outputs_b.append([1,0])\n",
    "        outputs_m.append([1,0,0])\n",
    "        \n",
    "    while d2c3:\n",
    "        d2c3-=1\n",
    "        phi1,phi2=stationary_ar2()\n",
    "        series=unitroot_series_3(phi1,phi2,diff_order,timesteps,3)\n",
    "        inputs.append(series)\n",
    "        outputs_b.append([1,0])\n",
    "        outputs_m.append([1,0,0])\n",
    "    #\n",
    "    inputs=np.array(inputs)\n",
    "    outputs_b=np.array(outputs_b)\n",
    "    outputs_m=np.array(outputs_m)\n",
    "#    assert n==len(inputs)==len(outputs_b)==len(outputs_m)\n",
    "    idx = np.random.permutation(n)\n",
    "    inputs_shuffled=inputs[idx]\n",
    "    outputs_b_shuffled=outputs_b[idx]\n",
    "    outputs_m_shuffled=outputs_m[idx]\n",
    "    return inputs_shuffled,outputs_b_shuffled,outputs_m_shuffled"
   ]
  },
  {
   "cell_type": "code",
   "execution_count": 14,
   "id": "29b4c932",
   "metadata": {},
   "outputs": [],
   "source": [
    "def load_m(name):\n",
    "    model=load_model('c:/data/model_weights/0303/'+name+'.hdf5')\n",
    "    return model\n",
    "dbL_25_5=load_m('dbL_25_5')"
   ]
  },
  {
   "cell_type": "code",
   "execution_count": 15,
   "id": "2d59ab50",
   "metadata": {},
   "outputs": [],
   "source": [
    "dbL=load_model('c:/data/model_weights/dbL.hdf5')\n",
    "dmL=load_model('c:/data/model_weights/dmL.hdf5')"
   ]
  },
  {
   "cell_type": "markdown",
   "id": "88671d4c",
   "metadata": {},
   "source": [
    "c1_adf=adf_test(c1in)\n",
    "c2_adf=adf_test(c2in)\n",
    "c3_adf=adf_test(c3in)\n",
    "c4_adf=adf_test(c4in)\n",
    "c5_adf=adf_test(c5in)\n",
    "c6_adf=adf_test(c6in)\n",
    "######\n",
    "d1_adf=adf_test(d1in)\n",
    "d2_adf=adf_test(d2in)\n",
    "d3_adf=adf_test(d3in)\n",
    "d4_adf=adf_test(d4in)\n",
    "d5_adf=adf_test(d5in)\n",
    "d6_adf=adf_test(d6in)"
   ]
  },
  {
   "cell_type": "markdown",
   "id": "b4bd589d",
   "metadata": {},
   "source": [
    "np.save('c:/data/model_weights/0303/c1_adf.npy',c1_adf)\n",
    "np.save('c:/data/model_weights/0303/c2_adf.npy',c2_adf)\n",
    "np.save('c:/data/model_weights/0303/c3_adf.npy',c3_adf)\n",
    "np.save('c:/data/model_weights/0303/c4_adf.npy',c4_adf)\n",
    "np.save('c:/data/model_weights/0303/c5_adf.npy',c5_adf)\n",
    "np.save('c:/data/model_weights/0303/c6_adf.npy',c6_adf)"
   ]
  },
  {
   "cell_type": "markdown",
   "id": "c0b61212",
   "metadata": {},
   "source": [
    "np.save('c:/data/model_weights/0303/d1_adf.npy',d1_adf)\n",
    "np.save('c:/data/model_weights/0303/d2_adf.npy',d2_adf)\n",
    "np.save('c:/data/model_weights/0303/d3_adf.npy',d3_adf)\n",
    "np.save('c:/data/model_weights/0303/d4_adf.npy',d4_adf)\n",
    "np.save('c:/data/model_weights/0303/d5_adf.npy',d5_adf)\n",
    "np.save('c:/data/model_weights/0303/d6_adf.npy',d6_adf)"
   ]
  },
  {
   "cell_type": "code",
   "execution_count": 22,
   "id": "f3767ac0",
   "metadata": {},
   "outputs": [],
   "source": [
    "din=pd.read_csv('c:/data/dataset/din.csv',header=None).to_numpy()"
   ]
  },
  {
   "cell_type": "code",
   "execution_count": 19,
   "id": "f126d9c2",
   "metadata": {},
   "outputs": [],
   "source": [
    "ur,stationary=sort_ur(din)\n",
    "# return idx_ur,idx_stationary"
   ]
  },
  {
   "cell_type": "code",
   "execution_count": 20,
   "id": "5a2017f2",
   "metadata": {},
   "outputs": [],
   "source": [
    "d1_adf=np.load('c:/data/model_weights/0303/d1_adf.npy',allow_pickle=True).item()\n",
    "d2_adf=np.load('c:/data/model_weights/0303/d2_adf.npy',allow_pickle=True).item()\n",
    "d3_adf=np.load('c:/data/model_weights/0303/d3_adf.npy',allow_pickle=True).item()\n",
    "d4_adf=np.load('c:/data/model_weights/0303/d4_adf.npy',allow_pickle=True).item()\n",
    "d5_adf=np.load('c:/data/model_weights/0303/d5_adf.npy',allow_pickle=True).item()\n",
    "d6_adf=np.load('c:/data/model_weights/0303/d6_adf.npy',allow_pickle=True).item()"
   ]
  },
  {
   "cell_type": "code",
   "execution_count": 18,
   "id": "741d62c5",
   "metadata": {},
   "outputs": [],
   "source": [
    "c1_adf=np.load('c:/data/model_weights/0303/c1_adf.npy',allow_pickle=True).item()\n",
    "c2_adf=np.load('c:/data/model_weights/0303/c2_adf.npy',allow_pickle=True).item()\n",
    "c3_adf=np.load('c:/data/model_weights/0303/c3_adf.npy',allow_pickle=True).item()\n",
    "c4_adf=np.load('c:/data/model_weights/0303/c4_adf.npy',allow_pickle=True).item()\n",
    "c5_adf=np.load('c:/data/model_weights/0303/c5_adf.npy',allow_pickle=True).item()\n",
    "c6_adf=np.load('c:/data/model_weights/0303/c6_adf.npy',allow_pickle=True).item()"
   ]
  },
  {
   "cell_type": "code",
   "execution_count": 19,
   "id": "c1838b31",
   "metadata": {},
   "outputs": [],
   "source": [
    "cadf_set=[c1_adf,c2_adf,c3_adf,c4_adf,c5_adf,c6_adf]\n",
    "dadf_set=[d1_adf,d2_adf,d3_adf,d4_adf,d5_adf,d6_adf]"
   ]
  },
  {
   "cell_type": "markdown",
   "id": "35fb085c",
   "metadata": {},
   "source": [
    "d1in,d1outb,d1outm=dgenerator(10000,0.15,100)\n",
    "d2in,d2outb,d2outm=dgenerator(10000,0.3,100)\n",
    "d3in,d3outb,d3outm=dgenerator(10000,0.45,100)\n",
    "d4in,d4outb,d4outm=dgenerator(10000,0.6,100)\n",
    "d5in,d5outb,d5outm=dgenerator(10000,0.75,100)\n",
    "d6in,d6outb,d6outm=dgenerator(10000,0.9,100)"
   ]
  },
  {
   "cell_type": "code",
   "execution_count": 35,
   "id": "c64b331e",
   "metadata": {},
   "outputs": [],
   "source": [
    "def split_set(interval,dataset):\n",
    "    split_dataset=[dataset[interval*i:interval*(i+1)] for i in range(6)]\n",
    "    return split_dataset\n",
    "cin=pd.read_csv('c:/data/dataset/cin.csv',header=None).to_numpy()\n",
    "coutb=pd.read_csv('c:/data/dataset/coutb.csv',header=None).to_numpy()\n",
    "coutm=pd.read_csv('c:/data/dataset/coutm.csv',header=None).to_numpy()\n",
    "#\n",
    "cin=split_set(10000,cin)\n",
    "coutb=split_set(10000,coutb)\n",
    "coutm=split_set(10000,coutm)"
   ]
  },
  {
   "cell_type": "code",
   "execution_count": 44,
   "id": "c7ab6ff9",
   "metadata": {},
   "outputs": [
    {
     "data": {
      "text/plain": [
       "(10000, 104)"
      ]
     },
     "execution_count": 44,
     "metadata": {},
     "output_type": "execute_result"
    }
   ],
   "source": [
    "cin[0].shape"
   ]
  },
  {
   "cell_type": "code",
   "execution_count": 50,
   "id": "072a0406",
   "metadata": {},
   "outputs": [],
   "source": [
    "export_df(rdin,'rdin')"
   ]
  },
  {
   "cell_type": "code",
   "execution_count": 52,
   "id": "55135aa5",
   "metadata": {},
   "outputs": [],
   "source": [
    "export_df(rdoutm,'rdoutm')\n",
    "export_df(rdoutb,'rdoutb')"
   ]
  },
  {
   "cell_type": "code",
   "execution_count": null,
   "id": "c2f5edb6",
   "metadata": {},
   "outputs": [],
   "source": [
    "rdin,rdoutb,rdoutm=dgenerator(10000,0.5,100)"
   ]
  },
  {
   "cell_type": "code",
   "execution_count": 47,
   "id": "5badb0f6",
   "metadata": {},
   "outputs": [],
   "source": [
    "np.save('c:/data/cr1_adf.npy',cr1_adf)\n",
    "np.save('c:/data/cr2_adf.npy',cr2_adf)\n",
    "np.save('c:/data/cr3_adf.npy',cr3_adf)\n",
    "np.save('c:/data/cr4_adf.npy',cr4_adf)\n",
    "np.save('c:/data/cr5_adf.npy',cr5_adf)\n",
    "np.save('c:/data/cr6_adf.npy',cr6_adf)"
   ]
  },
  {
   "cell_type": "code",
   "execution_count": 48,
   "id": "4b0c9657",
   "metadata": {},
   "outputs": [],
   "source": [
    "np.save('c:/data/dr_adf.npy',dr_adf)"
   ]
  },
  {
   "cell_type": "code",
   "execution_count": 46,
   "id": "8c7b4122",
   "metadata": {},
   "outputs": [],
   "source": [
    "cr1_adf=adf_rtest(cin[0])\n",
    "cr2_adf=adf_rtest(cin[1])\n",
    "cr3_adf=adf_rtest(cin[2])\n",
    "cr4_adf=adf_rtest(cin[3])\n",
    "cr5_adf=adf_rtest(cin[4])\n",
    "cr6_adf=adf_rtest(cin[5])\n",
    "#\n",
    "dr_adf=adf_rtest(rdin)"
   ]
  },
  {
   "cell_type": "markdown",
   "id": "3ba9a54e",
   "metadata": {},
   "source": [
    "din=pd.read_csv('c:/data/dataset/din.csv',header=None).to_numpy()\n",
    "doutb=pd.read_csv('c:/data/dataset/doutb.csv',header=None).to_numpy()\n",
    "doutm=pd.read_csv('c:/data/dataset/doutm.csv',header=None).to_numpy()"
   ]
  },
  {
   "cell_type": "markdown",
   "id": "13fd7fb9",
   "metadata": {},
   "source": [
    "din=np.concatenate((d1in,d2in,d3in,d4in,d5in,d6in),axis=0)\n",
    "doutb=np.concatenate((d1outb,d2outb,d3outb,d4outb,d5outb,d6outb),axis=0)\n",
    "doutm=np.concatenate((d1outm,d2outm,d3outm,d4outm,d5outm,d6outm),axis=0)\n",
    "#\n",
    "cin=np.concatenate((c1in,c2in,c3in,c4in,c5in,c6in),axis=0)\n",
    "coutb=np.concatenate((c1outb,c2outb,c3outb,c4outb,c5outb,c6outb),axis=0)\n",
    "coutm=np.concatenate((c1outm,c2outm,c3outm,c4outm,c5outm,c6outm),axis=0)"
   ]
  },
  {
   "cell_type": "code",
   "execution_count": null,
   "id": "ac0c06dc",
   "metadata": {},
   "outputs": [],
   "source": [
    "def  table_power(model,input_set,output_set,adf_set):\n",
    "def  table_acc(model,input_set,output_set,adf_set):"
   ]
  },
  {
   "cell_type": "markdown",
   "id": "42f5f36c",
   "metadata": {},
   "source": [
    "c1in,c1outb,c1outm=cgenerator(10000,0.15,100)\n",
    "c2in,c2outb,c2outm=cgenerator(10000,0.3,100)\n",
    "c3in,c3outb,c3outm=cgenerator(10000,0.45,100)\n",
    "c4in,c4outb,c4outm=cgenerator(10000,0.6,100)\n",
    "c5in,c5outb,c5outm=cgenerator(10000,0.75,100)\n",
    "c6in,c6outb,c6outm=cgenerator(10000,0.9,100)"
   ]
  },
  {
   "cell_type": "markdown",
   "id": "37ba48ef",
   "metadata": {},
   "source": [
    "c1_adf=adf_test(c1in)\n",
    "c2_adf=adf_test(c2in)\n",
    "c3_adf=adf_test(c3in)\n",
    "c4_adf=adf_test(c4in)\n",
    "c5_adf=adf_test(c5in)\n",
    "c6_adf=adf_test(c6in)"
   ]
  },
  {
   "cell_type": "code",
   "execution_count": 277,
   "id": "9b2d7d72",
   "metadata": {},
   "outputs": [],
   "source": [
    "d=np.load('c:/data/rc1_adf.npy',allow_pickle=True).item()"
   ]
  },
  {
   "cell_type": "code",
   "execution_count": 202,
   "id": "9525cf15",
   "metadata": {},
   "outputs": [],
   "source": [
    "np.save('c:/data/rc1_adf.npy',c1_adf)\n",
    "np.save('c:/data/rc2_adf.npy',c2_adf)\n",
    "np.save('c:/data/rc3_adf.npy',c3_adf)\n",
    "np.save('c:/data/rc4_adf.npy',c4_adf)\n",
    "np.save('c:/data/rc5_adf.npy',c5_adf)\n",
    "np.save('c:/data/rc6_adf.npy',c6_adf)"
   ]
  },
  {
   "cell_type": "code",
   "execution_count": 24,
   "id": "ec9689fc",
   "metadata": {},
   "outputs": [],
   "source": [
    "c1_adf=np.load('c:/data/rc1_adf.npy',allow_pickle=True).item()\n",
    "c2_adf=np.load('c:/data/rc2_adf.npy',allow_pickle=True).item()\n",
    "c3_adf=np.load('c:/data/rc3_adf.npy',allow_pickle=True).item()\n",
    "c4_adf=np.load('c:/data/rc4_adf.npy',allow_pickle=True).item()\n",
    "c5_adf=np.load('c:/data/rc5_adf.npy',allow_pickle=True).item()\n",
    "c6_adf=np.load('c:/data/rc6_adf.npy',allow_pickle=True).item()"
   ]
  },
  {
   "cell_type": "markdown",
   "id": "c0b97057",
   "metadata": {},
   "source": [
    "cin_set=[c1in,c2in,c3in,c4in,c5in,c6in] ## cin에 이렇게 저장돼 있음\n",
    "coutb_set=[c1outb,c2outb,c3outb,c4outb,c5outb,c6outb] ## coutb\n",
    "coutm_set=[c1outm,c2outm,c3outm,c4outm,c5outm,c6outm] ## coutm\n",
    "cadf_set=[c1_adf,c2_adf,c3_adf,c4_adf,c5_adf,c6_adf]"
   ]
  },
  {
   "cell_type": "code",
   "execution_count": 196,
   "id": "583eff5f",
   "metadata": {},
   "outputs": [
    {
     "name": "stdout",
     "output_type": "stream",
     "text": [
      "313/313 [==============================] - 2s 6ms/step - loss: 0.0584 - accuracy: 0.9790\n",
      "313/313 [==============================] - 2s 5ms/step - loss: 0.0801 - accuracy: 0.9736\n",
      "313/313 [==============================] - 2s 5ms/step - loss: 0.0845 - accuracy: 0.9690\n",
      "313/313 [==============================] - 2s 5ms/step - loss: 0.1030 - accuracy: 0.9674\n",
      "313/313 [==============================] - 2s 5ms/step - loss: 0.1190 - accuracy: 0.9631\n",
      "313/313 [==============================] - 2s 5ms/step - loss: 0.1239 - accuracy: 0.9621\n"
     ]
    }
   ],
   "source": [
    "plz_acc=table_acc(dbL,plzset,plzbset,cadf_set)"
   ]
  },
  {
   "cell_type": "code",
   "execution_count": 204,
   "id": "002ff3aa",
   "metadata": {},
   "outputs": [
    {
     "name": "stdout",
     "output_type": "stream",
     "text": [
      "47/47 [==============================] - 0s 2ms/step\n",
      "94/94 [==============================] - 0s 2ms/step\n",
      "141/141 [==============================] - 0s 2ms/step\n",
      "188/188 [==============================] - 0s 2ms/step\n",
      "235/235 [==============================] - 1s 2ms/step\n",
      "282/282 [==============================] - 1s 2ms/step\n"
     ]
    }
   ],
   "source": [
    "plz_size=table_size(dbL,plzset,plzbset,cadf_set)"
   ]
  },
  {
   "cell_type": "code",
   "execution_count": 203,
   "id": "13da3d40",
   "metadata": {},
   "outputs": [
    {
     "name": "stdout",
     "output_type": "stream",
     "text": [
      "266/266 [==============================] - 1s 4ms/step\n",
      "219/219 [==============================] - 1s 2ms/step\n",
      "172/172 [==============================] - 0s 2ms/step\n",
      "125/125 [==============================] - 0s 2ms/step\n",
      "79/79 [==============================] - 0s 2ms/step\n",
      "32/32 [==============================] - 0s 2ms/step\n"
     ]
    }
   ],
   "source": [
    "plz_power=table_power(dbL,plzset,plzbset,cadf_set)"
   ]
  },
  {
   "cell_type": "code",
   "execution_count": 197,
   "id": "a93d278a",
   "metadata": {},
   "outputs": [
    {
     "data": {
      "text/plain": [
       "{'model': [0.979, 0.974, 0.969, 0.967, 0.963, 0.962],\n",
       " 'adf_1%': [0.9349, 0.9357, 0.9317, 0.9353, 0.9332, 0.9339],\n",
       " 'adf_5%': [0.955, 0.9356, 0.9185, 0.9031, 0.8811, 0.8674],\n",
       " 'adf_10%': [0.9524, 0.9229, 0.8949, 0.8671, 0.8294, 0.8079]}"
      ]
     },
     "execution_count": 197,
     "metadata": {},
     "output_type": "execute_result"
    }
   ],
   "source": [
    "plz_acc"
   ]
  },
  {
   "cell_type": "code",
   "execution_count": 182,
   "id": "d5738b2b",
   "metadata": {},
   "outputs": [
    {
     "data": {
      "text/plain": [
       "{'model': [0.979, 0.974, 0.969, 0.967, 0.963, 0.962],\n",
       " 'adf_1%': [0.9349, 0.9357, 0.9317, 0.9353, 0.9332, 0.9339],\n",
       " 'adf_5%': [0.955, 0.9356, 0.9185, 0.9031, 0.8811, 0.8674],\n",
       " 'adf_10%': [0.9524, 0.9229, 0.8949, 0.8671, 0.8294, 0.8079]}"
      ]
     },
     "execution_count": 182,
     "metadata": {},
     "output_type": "execute_result"
    }
   ],
   "source": [
    "cset_acc"
   ]
  },
  {
   "cell_type": "code",
   "execution_count": 183,
   "id": "827a7a8f",
   "metadata": {},
   "outputs": [
    {
     "name": "stdout",
     "output_type": "stream",
     "text": [
      "313/313 [==============================] - 2s 4ms/step - loss: 0.1021 - accuracy: 0.9645\n",
      "313/313 [==============================] - 1s 4ms/step - loss: 0.1583 - accuracy: 0.9487\n",
      "313/313 [==============================] - 1s 4ms/step - loss: 0.2118 - accuracy: 0.9264\n",
      "313/313 [==============================] - 2s 5ms/step - loss: 0.2766 - accuracy: 0.9134\n",
      "313/313 [==============================] - 2s 5ms/step - loss: 0.3447 - accuracy: 0.8898\n",
      "313/313 [==============================] - 2s 5ms/step - loss: 0.3931 - accuracy: 0.8745\n"
     ]
    }
   ],
   "source": [
    "cset_accm=table_accm(dmL,cin_set,coutm_set,cadf_set)"
   ]
  },
  {
   "cell_type": "code",
   "execution_count": 184,
   "id": "103f5186",
   "metadata": {},
   "outputs": [
    {
     "data": {
      "text/plain": [
       "{'model': [0.965, 0.949, 0.926, 0.913, 0.89, 0.874],\n",
       " 'adf_1%': [0.9217, 0.9139, 0.8914, 0.8858, 0.8686, 0.8582],\n",
       " 'adf_5%': [0.937, 0.9007, 0.8599, 0.8293, 0.7889, 0.7548],\n",
       " 'adf_10%': [0.9282, 0.8715, 0.8118, 0.761, 0.6987, 0.6513]}"
      ]
     },
     "execution_count": 184,
     "metadata": {},
     "output_type": "execute_result"
    }
   ],
   "source": [
    "cset_accm"
   ]
  },
  {
   "cell_type": "code",
   "execution_count": null,
   "id": "78c62acf",
   "metadata": {},
   "outputs": [],
   "source": [
    "export_df(np.concatenate((c1in,dvin,dtein),axis=0),'fdin')\n",
    "export_df(np.concatenate((dtroutb,dvoutb,dteoutb),axis=0),'fdoutb')\n",
    "export_df(np.concatenate((dtroutm,dvoutm,dteoutm),axis=0),'fdoutm')"
   ]
  },
  {
   "cell_type": "code",
   "execution_count": 206,
   "id": "87a62d44",
   "metadata": {},
   "outputs": [
    {
     "name": "stdout",
     "output_type": "stream",
     "text": [
      "313/313 [==============================] - 1s 4ms/step - loss: 0.0584 - accuracy: 0.9790\n",
      "313/313 [==============================] - 1s 4ms/step - loss: 0.0801 - accuracy: 0.9736\n",
      "313/313 [==============================] - 1s 4ms/step - loss: 0.0845 - accuracy: 0.9690\n",
      "313/313 [==============================] - 1s 4ms/step - loss: 0.1030 - accuracy: 0.9674\n",
      "313/313 [==============================] - 1s 4ms/step - loss: 0.1190 - accuracy: 0.9631\n",
      "313/313 [==============================] - 1s 4ms/step - loss: 0.1239 - accuracy: 0.9621\n"
     ]
    }
   ],
   "source": [
    "cset_acc=table_acc(dbL,cin_set,coutb_set,cadf_set)"
   ]
  },
  {
   "cell_type": "code",
   "execution_count": 211,
   "id": "687fd37b",
   "metadata": {},
   "outputs": [
    {
     "data": {
      "image/png": "[encoded data removed]",
      "text/plain": [
       "<Figure size 600x400 with 1 Axes>"
      ]
     },
     "metadata": {},
     "output_type": "display_data"
    }
   ],
   "source": [
    "plt.figure(figsize=(6,4))\n",
    "plt.plot(cset_acc['model'],linestyle='solid',label='Classifier')\n",
    "plt.plot(cset_acc['adf_1%'],linestyle='dashed',label='ADF_1%')\n",
    "plt.plot(cset_acc['adf_5%'],linestyle='dashed',label='ADF_5%')\n",
    "plt.plot(cset_acc['adf_10%'],linestyle='dashed',label='ADF_10%')\n",
    "plt.ylabel('accuracy')\n",
    "plt.xlabel('')\n",
    "plt.legend()\n",
    "plt.show()"
   ]
  },
  {
   "cell_type": "markdown",
   "id": "4d284cd2",
   "metadata": {},
   "source": [
    "export_df(np.concatenate((c1in,c2in,c3in,c4in,c5in,c6in),axis=0),'plzin')\n",
    "export_df(np.concatenate((c1outb,c2outb,c3outb,c4outb,c5outb,c6outb),axis=0),'plzoutb')\n",
    "export_df(np.concatenate((c1outm,c2outm,c3outm,c4outm,c5outm,c6outm),axis=0),'plzoutm')"
   ]
  },
  {
   "cell_type": "code",
   "execution_count": 28,
   "id": "230de3d2",
   "metadata": {},
   "outputs": [
    {
     "data": {
      "text/plain": [
       "array([[ 1.72630819,  1.51523283,  2.27580452, ...,  0.20834418,\n",
       "         0.        ,  0.        ],\n",
       "       [-1.39829557, -0.05186906, -0.28404083, ..., -0.52000402,\n",
       "         0.        ,  0.        ],\n",
       "       [-0.18976508, -0.85518927,  0.41241541, ..., -0.66699942,\n",
       "         0.        ,  0.        ],\n",
       "       ...,\n",
       "       [ 1.19038235, -0.52588356, -0.23716655, ..., -0.07687439,\n",
       "         0.        ,  0.        ],\n",
       "       [-1.0760524 , -0.68687769, -0.17427582, ...,  0.48889305,\n",
       "         0.        ,  0.        ],\n",
       "       [ 1.33665029, -1.27222354,  0.17415189, ..., -0.24435817,\n",
       "         0.        ,  0.        ]])"
      ]
     },
     "execution_count": 28,
     "metadata": {},
     "output_type": "execute_result"
    }
   ],
   "source": [
    "plzin[:10000]"
   ]
  },
  {
   "cell_type": "code",
   "execution_count": 37,
   "id": "2d690d36",
   "metadata": {},
   "outputs": [
    {
     "data": {
      "text/plain": [
       "(60000, 104)"
      ]
     },
     "execution_count": 37,
     "metadata": {},
     "output_type": "execute_result"
    }
   ],
   "source": [
    "plzin.shape"
   ]
  },
  {
   "cell_type": "code",
   "execution_count": 36,
   "id": "d38cd23c",
   "metadata": {},
   "outputs": [],
   "source": [
    "plzin=pd.read_csv('c:/data/dataset/plzin.csv',header=None).to_numpy()"
   ]
  },
  {
   "cell_type": "code",
   "execution_count": 37,
   "id": "57fce2ab",
   "metadata": {},
   "outputs": [
    {
     "data": {
      "text/plain": [
       "(60000, 104)"
      ]
     },
     "execution_count": 37,
     "metadata": {},
     "output_type": "execute_result"
    }
   ],
   "source": [
    "plzin"
   ]
  },
  {
   "cell_type": "code",
   "execution_count": 29,
   "id": "ed06f5f0",
   "metadata": {},
   "outputs": [],
   "source": [
    "plzin=pd.read_csv('c:/data/dataset/plzin.csv',header=None).to_numpy()\n",
    "plzoutb=pd.read_csv('c:/data/dataset/plzoutb.csv',header=None).to_numpy()\n",
    "plzoutm=pd.read_csv('c:/data/dataset/plzoutm.csv',header=None).to_numpy()\n",
    "plzset=split_set(10000,plzin)\n",
    "plzbset=split_set(10000,plzoutb)\n",
    "plzmset=split_set(10000,plzoutm)"
   ]
  },
  {
   "cell_type": "code",
   "execution_count": 76,
   "id": "811df862",
   "metadata": {},
   "outputs": [],
   "source": [
    "din_set=[d1in,d2in,d3in,d4in,d5in,d6in]\n",
    "doutb_set=[d1outb,d2outb,d3outb,d4outb,d5outb,d6outb]\n",
    "doutm_set=[d1outm,d2outm,d3outm,d4outm,d5outm,d6outm]\n",
    "dadf_set=[d1_adf,d2_adf,d3_adf,d4_adf,d5_adf,d6_adf]"
   ]
  },
  {
   "cell_type": "code",
   "execution_count": 87,
   "id": "57871a6c",
   "metadata": {},
   "outputs": [
    {
     "name": "stdout",
     "output_type": "stream",
     "text": [
      "313/313 [==============================] - 2s 4ms/step - loss: 0.1070 - accuracy: 0.9624\n",
      "313/313 [==============================] - 1s 4ms/step - loss: 0.1631 - accuracy: 0.9466\n",
      "313/313 [==============================] - 2s 5ms/step - loss: 0.2209 - accuracy: 0.9307\n",
      "313/313 [==============================] - 2s 5ms/step - loss: 0.2942 - accuracy: 0.9093\n",
      "313/313 [==============================] - 2s 5ms/step - loss: 0.3611 - accuracy: 0.8879\n",
      "313/313 [==============================] - 2s 5ms/step - loss: 0.4128 - accuracy: 0.8683\n"
     ]
    }
   ],
   "source": [
    "cset_accm=table_accm(dmL,cin,coutm,cadf_set)"
   ]
  },
  {
   "cell_type": "code",
   "execution_count": 88,
   "id": "7a9f28c2",
   "metadata": {},
   "outputs": [
    {
     "data": {
      "text/plain": [
       "{'model': [0.962, 0.947, 0.931, 0.909, 0.888, 0.868],\n",
       " 'adf_1%': [0.7003, 0.5259, 0.4007, 0.3443, 0.3366, 0.4034],\n",
       " 'adf_5%': [0.7319, 0.5545, 0.4207, 0.35, 0.3251, 0.3708],\n",
       " 'adf_10%': [0.7449, 0.5745, 0.4312, 0.3522, 0.3199, 0.3487]}"
      ]
     },
     "execution_count": 88,
     "metadata": {},
     "output_type": "execute_result"
    }
   ],
   "source": [
    "cset_accm"
   ]
  },
  {
   "cell_type": "code",
   "execution_count": 46,
   "id": "54ee02e1",
   "metadata": {},
   "outputs": [
    {
     "name": "stdout",
     "output_type": "stream",
     "text": [
      "313/313 [==============================] - 2s 6ms/step - loss: 0.0883 - accuracy: 0.9652\n",
      "313/313 [==============================] - 2s 5ms/step - loss: 0.1029 - accuracy: 0.9589\n",
      "313/313 [==============================] - 2s 5ms/step - loss: 0.1121 - accuracy: 0.9576\n",
      "313/313 [==============================] - 2s 5ms/step - loss: 0.1402 - accuracy: 0.9508\n",
      "313/313 [==============================] - 2s 5ms/step - loss: 0.1573 - accuracy: 0.9442\n",
      "313/313 [==============================] - 2s 5ms/step - loss: 0.1589 - accuracy: 0.9450\n",
      "47/47 [==============================] - 1s 5ms/step\n",
      "94/94 [==============================] - 0s 4ms/step\n",
      "141/141 [==============================] - 1s 4ms/step\n",
      "188/188 [==============================] - 1s 4ms/step\n",
      "235/235 [==============================] - 1s 3ms/step\n",
      "282/282 [==============================] - 1s 4ms/step\n",
      "266/266 [==============================] - 1s 3ms/step\n",
      "219/219 [==============================] - 1s 4ms/step\n",
      "172/172 [==============================] - 1s 4ms/step\n",
      "125/125 [==============================] - 1s 5ms/step\n",
      "79/79 [==============================] - 0s 5ms/step\n",
      "32/32 [==============================] - 0s 3ms/step\n"
     ]
    }
   ],
   "source": [
    "c2set_acc=table_acc(dbL,cin_set,coutb_set,cadf_set)\n",
    "c2set_size=table_size(dbL,cin_set,coutb_set,cadf_set)\n",
    "c2set_power=table_power(dbL,cin_set,coutb_set,cadf_set)"
   ]
  },
  {
   "cell_type": "code",
   "execution_count": 189,
   "id": "867ea1dd",
   "metadata": {},
   "outputs": [
    {
     "name": "stdout",
     "output_type": "stream",
     "text": [
      "313/313 [==============================] - 2s 6ms/step - loss: 0.0562 - accuracy: 0.9774\n",
      "313/313 [==============================] - 2s 5ms/step - loss: 0.0482 - accuracy: 0.9796\n",
      "313/313 [==============================] - 2s 5ms/step - loss: 0.0465 - accuracy: 0.9812\n",
      "313/313 [==============================] - 2s 6ms/step - loss: 0.0481 - accuracy: 0.9796\n",
      "313/313 [==============================] - 2s 6ms/step - loss: 0.0463 - accuracy: 0.9828\n",
      "313/313 [==============================] - 2s 5ms/step - loss: 0.0459 - accuracy: 0.9814\n",
      "47/47 [==============================] - 0s 5ms/step\n",
      "94/94 [==============================] - 0s 4ms/step\n",
      "141/141 [==============================] - 1s 4ms/step\n",
      "188/188 [==============================] - 1s 4ms/step\n",
      "235/235 [==============================] - 1s 4ms/step\n",
      "282/282 [==============================] - 1s 4ms/step\n",
      "266/266 [==============================] - 1s 4ms/step\n",
      "219/219 [==============================] - 1s 4ms/step\n",
      "172/172 [==============================] - 1s 4ms/step\n",
      "125/125 [==============================] - 1s 4ms/step\n",
      "79/79 [==============================] - 0s 4ms/step\n",
      "32/32 [==============================] - 0s 3ms/step\n"
     ]
    }
   ],
   "source": [
    "d2set_acc=table_acc(dbL,din_set,doutb_set,dadf_set)\n",
    "d2set_size=table_size(dbL,din_set,doutb_set,dadf_set)\n",
    "d2set_power=table_power(dbL,din_set,doutb_set,dadf_set)"
   ]
  },
  {
   "cell_type": "code",
   "execution_count": 190,
   "id": "b051f6cc",
   "metadata": {},
   "outputs": [
    {
     "data": {
      "text/plain": [
       "({'model': [0.947, 0.956, 0.964, 0.965, 0.974, 0.98],\n",
       "  'adf_1%': [0.9369, 0.9455, 0.9483, 0.9587, 0.9602, 0.9675],\n",
       "  'adf_5%': [0.9561, 0.9442, 0.9333, 0.926, 0.9139, 0.9012],\n",
       "  'adf_10%': [0.953, 0.9294, 0.9059, 0.8814, 0.8548, 0.8265]},\n",
       " {'model': [0.977, 0.98, 0.981, 0.98, 0.983, 0.981],\n",
       "  'adf_1%': [0.9369, 0.9455, 0.9483, 0.9587, 0.9602, 0.9675],\n",
       "  'adf_5%': [0.9561, 0.9442, 0.9333, 0.926, 0.9139, 0.9012],\n",
       "  'adf_10%': [0.953, 0.9294, 0.9059, 0.8814, 0.8548, 0.8265]})"
      ]
     },
     "execution_count": 190,
     "metadata": {},
     "output_type": "execute_result"
    }
   ],
   "source": [
    "dset_acc,d2set_acc"
   ]
  },
  {
   "cell_type": "code",
   "execution_count": 191,
   "id": "95c5cc20",
   "metadata": {},
   "outputs": [
    {
     "data": {
      "text/plain": [
       "({'model': [0.021, 0.013, 0.016, 0.018, 0.015, 0.016],\n",
       "  'adf_1%': [0.033, 0.031, 0.034, 0.03, 0.029, 0.03],\n",
       "  'adf_5%': [0.12, 0.114, 0.113, 0.106, 0.105, 0.107],\n",
       "  'adf_10%': [0.203, 0.195, 0.191, 0.188, 0.188, 0.191]},\n",
       " {'model': [0.021, 0.016, 0.021, 0.021, 0.016, 0.018],\n",
       "  'adf_1%': [0.033, 0.031, 0.034, 0.03, 0.029, 0.03],\n",
       "  'adf_5%': [0.12, 0.114, 0.113, 0.106, 0.105, 0.107],\n",
       "  'adf_10%': [0.203, 0.195, 0.191, 0.188, 0.188, 0.191]})"
      ]
     },
     "execution_count": 191,
     "metadata": {},
     "output_type": "execute_result"
    }
   ],
   "source": [
    "dset_size,d2set_size"
   ]
  },
  {
   "cell_type": "code",
   "execution_count": 192,
   "id": "43410f17",
   "metadata": {},
   "outputs": [
    {
     "data": {
      "text/plain": [
       "({'model': [0.942, 0.943, 0.947, 0.938, 0.939, 0.949],\n",
       "  'adf_1%': [0.932, 0.936, 0.934, 0.942, 0.929, 0.947],\n",
       "  'adf_5%': [0.97, 0.969, 0.971, 0.974, 0.972, 0.974],\n",
       "  'adf_10%': [0.98, 0.983, 0.985, 0.985, 0.983, 0.984]},\n",
       " {'model': [0.977, 0.978, 0.983, 0.981, 0.98, 0.979],\n",
       "  'adf_1%': [0.932, 0.936, 0.934, 0.942, 0.929, 0.947],\n",
       "  'adf_5%': [0.97, 0.969, 0.971, 0.974, 0.972, 0.974],\n",
       "  'adf_10%': [0.98, 0.983, 0.985, 0.985, 0.983, 0.984]})"
      ]
     },
     "execution_count": 192,
     "metadata": {},
     "output_type": "execute_result"
    }
   ],
   "source": [
    "dset_power,d2set_power"
   ]
  },
  {
   "cell_type": "code",
   "execution_count": 203,
   "id": "457a1bef",
   "metadata": {},
   "outputs": [
    {
     "data": {
      "text/plain": [
       "({'model': [0.988, 0.981, 0.981, 0.985],\n",
       "  'adf_1%': [0.9308, 0.9402, 0.9591, 0.9635],\n",
       "  'adf_5%': [0.9521, 0.9421, 0.9409, 0.9411],\n",
       "  'adf_10%': [0.9494, 0.924, 0.9147, 0.9093]},\n",
       " {'model': [0.024, 0.028, 0.023, 0.017],\n",
       "  'adf_1%': [0.022, 0.023, 0.019, 0.021],\n",
       "  'adf_5%': [0.066, 0.072, 0.066, 0.066],\n",
       "  'adf_10%': [0.114, 0.128, 0.113, 0.114]},\n",
       " {'model': [0.993, 0.99, 0.991, 0.992],\n",
       "  'adf_1%': [0.91, 0.903, 0.907, 0.917],\n",
       "  'adf_5%': [0.96, 0.957, 0.957, 0.963],\n",
       "  'adf_10%': [0.977, 0.976, 0.979, 0.979]})"
      ]
     },
     "execution_count": 203,
     "metadata": {},
     "output_type": "execute_result"
    }
   ],
   "source": [
    "ddset_acc,ddset_size,ddset_power"
   ]
  },
  {
   "cell_type": "code",
   "execution_count": 78,
   "id": "89370874",
   "metadata": {},
   "outputs": [
    {
     "name": "stdout",
     "output_type": "stream",
     "text": [
      "313/313 [==============================] - 1s 4ms/step - loss: 0.2092 - accuracy: 0.9475\n",
      "313/313 [==============================] - 1s 4ms/step - loss: 0.1625 - accuracy: 0.9560\n",
      "313/313 [==============================] - 1s 4ms/step - loss: 0.1363 - accuracy: 0.9636\n",
      "313/313 [==============================] - 1s 4ms/step - loss: 0.1279 - accuracy: 0.9645\n",
      "313/313 [==============================] - 1s 4ms/step - loss: 0.0884 - accuracy: 0.9737\n",
      "313/313 [==============================] - 1s 4ms/step - loss: 0.0573 - accuracy: 0.9803\n",
      "47/47 [==============================] - 0s 3ms/step\n",
      "94/94 [==============================] - 0s 3ms/step\n",
      "141/141 [==============================] - 0s 2ms/step\n",
      "188/188 [==============================] - 0s 2ms/step\n",
      "235/235 [==============================] - 1s 2ms/step\n",
      "282/282 [==============================] - 1s 2ms/step\n",
      "266/266 [==============================] - 1s 2ms/step\n",
      "219/219 [==============================] - 1s 3ms/step\n",
      "172/172 [==============================] - 0s 2ms/step\n",
      "125/125 [==============================] - 0s 2ms/step\n",
      "79/79 [==============================] - 0s 2ms/step\n",
      "32/32 [==============================] - 0s 2ms/step\n"
     ]
    }
   ],
   "source": [
    "dset_acc=table_acc(dbL_25_5,din_set,doutb_set,dadf_set)\n",
    "dset_size=table_size(dbL_25_5,din_set,doutb_set,dadf_set)\n",
    "dset_power=table_power(dbL_25_5,din_set,doutb_set,dadf_set)"
   ]
  },
  {
   "cell_type": "code",
   "execution_count": 213,
   "id": "cec6bd38",
   "metadata": {},
   "outputs": [
    {
     "data": {
      "image/png": "[encoded data removed]",
      "text/plain": [
       "<Figure size 640x480 with 1 Axes>"
      ]
     },
     "metadata": {},
     "output_type": "display_data"
    }
   ],
   "source": [
    "#plt.plot(dset_acc['model'],linestyle='dashed')\n",
    "#plt.plot(dset_acc['adf_1%'],linestyle='dashed')\n",
    "#plt.plot(dset_acc['adf_5%'],linestyle='dashed')\n",
    "#plt.plot(dset_acc['adf_10%'],linestyle='dashed')\n",
    "pset=[0.15,0.3,0.45,0.6,0.75,0.9]\n",
    "plt.plot(cset_acc['model'],linestyle='solid',label='classifier')\n",
    "plt.plot(cset_acc['adf_1%'],linestyle='dashed',label='adf_1%')\n",
    "plt.plot(cset_acc['adf_5%'],linestyle='dashed',label='adf_5%')\n",
    "plt.plot(cset_acc['adf_10%'],linestyle='dashed',label='adf_10%')\n",
    "plt.ylabel('accuracy')\n",
    "plt.xlabel('dataset')\n",
    "plt.legend()\n",
    "#plt.legend(['dm','dadf1','dadf5','dadf10','cm','cadf1','cadf5','cadf10'])\n",
    "plt.show()"
   ]
  },
  {
   "cell_type": "code",
   "execution_count": 173,
   "id": "86002fb5",
   "metadata": {},
   "outputs": [
    {
     "name": "stdout",
     "output_type": "stream",
     "text": [
      "313/313 [==============================] - 2s 6ms/step - loss: 0.0625 - accuracy: 0.9766\n",
      "313/313 [==============================] - 2s 6ms/step - loss: 0.0734 - accuracy: 0.9744\n",
      "313/313 [==============================] - 2s 5ms/step - loss: 0.0846 - accuracy: 0.9714\n",
      "313/313 [==============================] - 2s 5ms/step - loss: 0.1136 - accuracy: 0.9649\n",
      "313/313 [==============================] - 2s 5ms/step - loss: 0.1313 - accuracy: 0.9607\n",
      "313/313 [==============================] - 2s 6ms/step - loss: 0.1365 - accuracy: 0.9582\n"
     ]
    }
   ],
   "source": [
    "cacc=table_acc(dbL,cin,coutb,cadf_set)"
   ]
  },
  {
   "cell_type": "code",
   "execution_count": 146,
   "id": "c4eb29b0",
   "metadata": {},
   "outputs": [
    {
     "data": {
      "image/png": "[encoded data removed]",
      "text/plain": [
       "<Figure size 640x480 with 1 Axes>"
      ]
     },
     "metadata": {},
     "output_type": "display_data"
    }
   ],
   "source": [
    "y=list(cset_acc.values())[0]\n",
    "spl=make_interp_spline(x,y,k=3)\n",
    "mspl=spl(x_new)\n",
    "#plt.plot(x, y, 'o', label='Original Data')\n",
    "plt.plot(x_new, spl(x_new), label='model_accuracy',linestyle='--')\n",
    "y=list(cset_acc.values())[1]\n",
    "spl=make_interp_spline(x,y,k=3)\n",
    "plt.plot(x_new,spl(x_new),label='adf_1',linestyle='--')\n",
    "y=list(cset_acc.values())[2]\n",
    "spl=make_interp_spline(x,y,k=3)\n",
    "plt.plot(x_new,spl(x_new),label='adf_5',linestyle='--')\n",
    "y=list(cset_acc.values())[3]\n",
    "spl=make_interp_spline(x,y,k=3)\n",
    "plt.plot(x_new,spl(x_new),label='adf_10',linestyle='--')\n",
    "plt.legend()\n",
    "#plt.savefig('foo.png')"
   ]
  },
  {
   "cell_type": "code",
   "execution_count": 101,
   "id": "02ae5207",
   "metadata": {},
   "outputs": [
    {
     "data": {
      "image/png": "[encoded data removed]",
      "text/plain": [
       "<Figure size 640x480 with 1 Axes>"
      ]
     },
     "metadata": {},
     "output_type": "display_data"
    }
   ],
   "source": [
    "#plt.plot(dset_acc['model'],linestyle='dashed')\n",
    "#plt.plot(dset_acc['adf_1%'],linestyle='dashed')\n",
    "#plt.plot(dset_acc['adf_5%'],linestyle='dashed')\n",
    "#plt.plot(dset_acc['adf_10%'],linestyle='dashed')\n",
    "plt.plot(cset_acc['model'],linestyle='dashed')\n",
    "plt.plot(cset_acc['adf_1%'],linestyle='dashed')\n",
    "plt.plot(cset_acc['adf_5%'],linestyle='dashed')\n",
    "plt.plot(cset_acc['adf_10%'],linestyle='dashed')\n",
    "#\n",
    "plt.legend(['dm','dadf1','dadf5','dadf10','cm','cadf1','cadf5','cadf10'])\n",
    "plt.show()"
   ]
  },
  {
   "cell_type": "code",
   "execution_count": 99,
   "id": "ac33622a",
   "metadata": {},
   "outputs": [
    {
     "data": {
      "text/plain": [
       "({'model': [0.947, 0.956, 0.964, 0.965, 0.974, 0.98],\n",
       "  'adf_1%': [0.9369, 0.9455, 0.9483, 0.9587, 0.9602, 0.9675],\n",
       "  'adf_5%': [0.9561, 0.9442, 0.9333, 0.926, 0.9139, 0.9012],\n",
       "  'adf_10%': [0.953, 0.9294, 0.9059, 0.8814, 0.8548, 0.8265]},\n",
       " {'model': [0.945, 0.948, 0.953, 0.952, 0.957, 0.961],\n",
       "  'adf_1%': [0.9387, 0.9359, 0.9358, 0.9322, 0.9265, 0.932],\n",
       "  'adf_5%': [0.9526, 0.9354, 0.9172, 0.8999, 0.8783, 0.8613],\n",
       "  'adf_10%': [0.9537, 0.9199, 0.8943, 0.8613, 0.8267, 0.7971]})"
      ]
     },
     "execution_count": 99,
     "metadata": {},
     "output_type": "execute_result"
    }
   ],
   "source": [
    "dset_acc,cset_acc"
   ]
  },
  {
   "cell_type": "code",
   "execution_count": 81,
   "id": "74651462",
   "metadata": {},
   "outputs": [
    {
     "data": {
      "text/plain": [
       "({'model': [0.021, 0.013, 0.016, 0.018, 0.015, 0.016],\n",
       "  'adf_1%': [0.033, 0.031, 0.034, 0.03, 0.029, 0.03],\n",
       "  'adf_5%': [0.12, 0.114, 0.113, 0.106, 0.105, 0.107],\n",
       "  'adf_10%': [0.203, 0.195, 0.191, 0.188, 0.188, 0.191]},\n",
       " {'model': [0.035, 0.04, 0.037, 0.037, 0.039, 0.037],\n",
       "  'adf_1%': [0.056, 0.067, 0.066, 0.069, 0.074, 0.068],\n",
       "  'adf_5%': [0.143, 0.151, 0.149, 0.145, 0.152, 0.15],\n",
       "  'adf_10%': [0.205, 0.231, 0.214, 0.218, 0.225, 0.223]})"
      ]
     },
     "execution_count": 81,
     "metadata": {},
     "output_type": "execute_result"
    }
   ],
   "source": [
    "dset_size,cset_size"
   ]
  },
  {
   "cell_type": "code",
   "execution_count": 82,
   "id": "05fc7229",
   "metadata": {},
   "outputs": [
    {
     "data": {
      "text/plain": [
       "({'model': [0.942, 0.943, 0.947, 0.938, 0.939, 0.949],\n",
       "  'adf_1%': [0.932, 0.936, 0.934, 0.942, 0.929, 0.947],\n",
       "  'adf_5%': [0.97, 0.969, 0.971, 0.974, 0.972, 0.974],\n",
       "  'adf_10%': [0.98, 0.983, 0.985, 0.985, 0.983, 0.984]},\n",
       " {'model': [0.942, 0.943, 0.945, 0.937, 0.948, 0.943],\n",
       "  'adf_1%': [0.938, 0.937, 0.937, 0.934, 0.928, 0.928],\n",
       "  'adf_5%': [0.97, 0.973, 0.971, 0.967, 0.97, 0.967],\n",
       "  'adf_10%': [0.982, 0.985, 0.983, 0.98, 0.982, 0.978]})"
      ]
     },
     "execution_count": 82,
     "metadata": {},
     "output_type": "execute_result"
    }
   ],
   "source": [
    "dset_power,cset_power"
   ]
  },
  {
   "cell_type": "code",
   "execution_count": 38,
   "id": "1045a0ea",
   "metadata": {},
   "outputs": [
    {
     "data": {
      "text/plain": [
       "{'model': [0.945, 0.948, 0.953, 0.952, 0.957, 0.961],\n",
       " 'adf_1%': [0.9387, 0.9359, 0.9358, 0.9322, 0.9265, 0.932],\n",
       " 'adf_5%': [0.9526, 0.9354, 0.9172, 0.8999, 0.8783, 0.8613],\n",
       " 'adf_10%': [0.9537, 0.9199, 0.8943, 0.8613, 0.8267, 0.7971]}"
      ]
     },
     "execution_count": 38,
     "metadata": {},
     "output_type": "execute_result"
    }
   ],
   "source": [
    "cset_acc"
   ]
  },
  {
   "cell_type": "code",
   "execution_count": 64,
   "id": "6a860945",
   "metadata": {},
   "outputs": [
    {
     "data": {
      "text/plain": [
       "{'model': [0.035, 0.04, 0.037, 0.037, 0.039, 0.037],\n",
       " 'adf_1%': [0.056, 0.067, 0.066, 0.069, 0.074, 0.068],\n",
       " 'adf_5%': [0.143, 0.151, 0.149, 0.145, 0.152, 0.15],\n",
       " 'adf_10%': [0.205, 0.231, 0.214, 0.218, 0.225, 0.223]}"
      ]
     },
     "execution_count": 64,
     "metadata": {},
     "output_type": "execute_result"
    }
   ],
   "source": [
    "cset_size"
   ]
  },
  {
   "cell_type": "code",
   "execution_count": 65,
   "id": "c7530f04",
   "metadata": {},
   "outputs": [
    {
     "data": {
      "text/plain": [
       "{'model': [0.942, 0.943, 0.945, 0.937, 0.948, 0.943],\n",
       " 'adf_1%': [0.938, 0.937, 0.937, 0.934, 0.928, 0.928],\n",
       " 'adf_5%': [0.97, 0.973, 0.971, 0.967, 0.97, 0.967],\n",
       " 'adf_10%': [0.982, 0.985, 0.983, 0.98, 0.982, 0.978]}"
      ]
     },
     "execution_count": 65,
     "metadata": {},
     "output_type": "execute_result"
    }
   ],
   "source": [
    "cset_power"
   ]
  },
  {
   "cell_type": "code",
   "execution_count": 63,
   "id": "d4380e10",
   "metadata": {},
   "outputs": [
    {
     "name": "stdout",
     "output_type": "stream",
     "text": [
      "47/47 [==============================] - 0s 3ms/step\n",
      "94/94 [==============================] - 0s 3ms/step\n",
      "141/141 [==============================] - 0s 3ms/step\n",
      "188/188 [==============================] - 1s 3ms/step\n",
      "235/235 [==============================] - 1s 3ms/step\n",
      "282/282 [==============================] - 1s 3ms/step\n"
     ]
    }
   ],
   "source": [
    "cset_size=table_size(dbL_25_5,cin_set,coutb_set,cadf_set)"
   ]
  },
  {
   "cell_type": "code",
   "execution_count": 62,
   "id": "10e7ed82",
   "metadata": {},
   "outputs": [
    {
     "name": "stdout",
     "output_type": "stream",
     "text": [
      "266/266 [==============================] - 1s 4ms/step\n",
      "219/219 [==============================] - 1s 3ms/step\n",
      "172/172 [==============================] - 0s 2ms/step\n",
      "125/125 [==============================] - 0s 3ms/step\n",
      "79/79 [==============================] - 0s 3ms/step\n",
      "32/32 [==============================] - 0s 3ms/step\n"
     ]
    }
   ],
   "source": [
    "cset_power=table_power(dbL_25_5,cin_set,coutb_set,cadf_set)"
   ]
  },
  {
   "cell_type": "code",
   "execution_count": 112,
   "id": "ab19161f",
   "metadata": {},
   "outputs": [
    {
     "data": {
      "text/plain": [
       "{'model': [0.944, 0.945, 0.951, 0.956, 0.958, 0.96],\n",
       " 'adf_1%': [0.9351, 0.9373, 0.9363, 0.9375, 0.9347, 0.9336],\n",
       " 'adf_5%': [0.9528, 0.9382, 0.9176, 0.9013, 0.8823, 0.8663],\n",
       " 'adf_10%': [0.9531, 0.9249, 0.8919, 0.8638, 0.832, 0.7999]}"
      ]
     },
     "execution_count": 112,
     "metadata": {},
     "output_type": "execute_result"
    }
   ],
   "source": [
    "## 일정한 패턴이 없는 것 같은데?\n",
    "cset_acc"
   ]
  },
  {
   "cell_type": "code",
   "execution_count": 113,
   "id": "16b48f0d",
   "metadata": {},
   "outputs": [
    {
     "data": {
      "text/plain": [
       "({'model': [0.945, 0.948, 0.953, 0.952, 0.957, 0.961],\n",
       "  'adf_1%': [0.9387, 0.9359, 0.9358, 0.9322, 0.9265, 0.932],\n",
       "  'adf_5%': [0.9526, 0.9354, 0.9172, 0.8999, 0.8783, 0.8613],\n",
       "  'adf_10%': [0.9537, 0.9199, 0.8943, 0.8613, 0.8267, 0.7971]},\n",
       " {'model': [0.947, 0.956, 0.964, 0.965, 0.974, 0.98],\n",
       "  'adf_1%': [0.9369, 0.9455, 0.9483, 0.9587, 0.9602, 0.9675],\n",
       "  'adf_5%': [0.9561, 0.9442, 0.9333, 0.926, 0.9139, 0.9012],\n",
       "  'adf_10%': [0.953, 0.9294, 0.9059, 0.8814, 0.8548, 0.8265]})"
      ]
     },
     "execution_count": 113,
     "metadata": {},
     "output_type": "execute_result"
    }
   ],
   "source": [
    "cset_acc,dset_acc"
   ]
  },
  {
   "cell_type": "code",
   "execution_count": 167,
   "id": "9f07d738",
   "metadata": {},
   "outputs": [
    {
     "data": {
      "text/plain": [
       "Text(0.5, 1.0, 'accuracy ')"
      ]
     },
     "execution_count": 167,
     "metadata": {},
     "output_type": "execute_result"
    },
    {
     "data": {
      "image/png": "[encoded data removed]",
      "text/plain": [
       "<Figure size 640x480 with 1 Axes>"
      ]
     },
     "metadata": {},
     "output_type": "display_data"
    }
   ],
   "source": [
    "y=list(cset_acc.values())[0]\n",
    "spl=make_interp_spline(x,y,k=3)\n",
    "mspl=spl(x_new)\n",
    "#plt.plot(x, y, 'o', label='Original Data')\n",
    "plt.plot(x_new, spl(x_new), label='model_accuracy',linestyle='--')\n",
    "y=list(cset_acc.values())[1]\n",
    "spl=make_interp_spline(x,y,k=3)\n",
    "plt.plot(x_new,spl(x_new),label='adf_1',linestyle='--')\n",
    "y=list(cset_acc.values())[2]\n",
    "spl=make_interp_spline(x,y,k=3)\n",
    "plt.plot(x_new,spl(x_new),label='adf_5',linestyle='--')\n",
    "y=list(cset_acc.values())[3]\n",
    "spl=make_interp_spline(x,y,k=3)\n",
    "plt.plot(x_new,spl(x_new),label='adf_10',linestyle='--')\n",
    "plt.legend()\n",
    "plt.xlabel('data number')\n",
    "plt.ylabel('accuracy')\n",
    "plt.title('accuracy ')\n",
    "#plt.savefig('foo.png')"
   ]
  },
  {
   "cell_type": "code",
   "execution_count": 160,
   "id": "a6f2bff9",
   "metadata": {},
   "outputs": [
    {
     "data": {
      "image/png": "[encoded data removed]",
      "text/plain": [
       "<Figure size 600x400 with 1 Axes>"
      ]
     },
     "metadata": {},
     "output_type": "display_data"
    }
   ],
   "source": [
    "model_accuracy=mspl\n",
    "adf_1=spl1(x_new)\n",
    "adf_5=spl2(x_new)\n",
    "adf_10=spl3(x_new)\n",
    "delta_1 = model_accuracy - adf_1\n",
    "delta_5 = model_accuracy - adf_5\n",
    "delta_10 = model_accuracy - adf_10\n",
    "\n",
    "plt.figure(figsize=(6, 4))\n",
    "plt.plot(x_new, delta_1, label='Accuracy Drop (ADF 1%)')\n",
    "plt.plot(x_new, delta_5, label='Accuracy Drop (ADF 5%)')\n",
    "plt.plot(x_new, delta_10, label='Accuracy Drop (ADF 10%)')\n",
    "plt.xlabel(\"Epoch\")\n",
    "plt.ylabel(\"Accuracy Drop\")\n",
    "plt.title(\"Accuracy Degradation due to ADF\")\n",
    "plt.legend()\n",
    "#plt.grid(True)\n",
    "plt.tight_layout()\n",
    "plt.show()"
   ]
  },
  {
   "cell_type": "code",
   "execution_count": 147,
   "id": "a039ff08",
   "metadata": {},
   "outputs": [
    {
     "data": {
      "image/png": "[encoded data removed]",
      "text/plain": [
       "<Figure size 600x400 with 1 Axes>"
      ]
     },
     "metadata": {},
     "output_type": "display_data"
    }
   ],
   "source": [
    "# 예시 데이터\n",
    "x = np.array([0, 1, 2, 3, 4, 5])\n",
    "model_accuracy = np.array([0.94, 0.947, 0.949, 0.948, 0.951, 0.956])\n",
    "adf_1 = np.array([0.935, 0.937, 0.936, 0.933, 0.931, 0.932])\n",
    "adf_5 = np.array([0.955, 0.948, 0.941, 0.926, 0.912, 0.88])\n",
    "adf_10 = np.array([0.96, 0.942, 0.915, 0.88, 0.84, 0.798])\n",
    "# 부드러운 곡선 만들기\n",
    "x_new = np.linspace(x.min(), x.max(), 300)\n",
    "def smooth(x, y): return make_interp_spline(x, y, k=3)(x_new)\n",
    "# 플롯 설정\n",
    "plt.figure(figsize=(6, 4))\n",
    "plt.plot(x_new, smooth(x, model_accuracy), label='Model Accuracy', linestyle='--', color='blue')\n",
    "plt.plot(x_new, smooth(x, adf_1), label='ADF 1%', linestyle='--', color='orange')\n",
    "plt.plot(x_new, smooth(x, adf_5), label='ADF 5%', linestyle='--', color='green')\n",
    "plt.plot(x_new, smooth(x, adf_10), label='ADF 10%', linestyle='--', color='red')\n",
    "# 제목, 라벨, 눈금 등\n",
    "plt.xlabel(\"Epoch\", fontsize=12)\n",
    "plt.ylabel(\"Accuracy\", fontsize=12)\n",
    "plt.title(\"Simulation Result\", fontsize=14)\n",
    "plt.legend(fontsize=10)\n",
    "plt.grid(True, linestyle='--', alpha=0.6)\n",
    "plt.tight_layout()\n",
    "# 고해상도 저장\n",
    "plt.savefig(\"plot_for_paper.png\", dpi=300)\n",
    "plt.show()"
   ]
  },
  {
   "cell_type": "code",
   "execution_count": 168,
   "id": "3062f010",
   "metadata": {},
   "outputs": [],
   "source": [
    "x_new=np.linspace(x[0],x[-1],300)"
   ]
  },
  {
   "cell_type": "code",
   "execution_count": 37,
   "id": "68a5da07",
   "metadata": {},
   "outputs": [],
   "source": [
    "dbL=Sequential([\n",
    "    LSTM(30,input_shape=(100,1)),\n",
    "    Dense(2,activation='softmax')\n",
    "    ])\n",
    "dbL.compile(loss='categorical_crossentropy',metrics=['accuracy'],optimizer='rmsprop')\n"
   ]
  },
  {
   "cell_type": "code",
   "execution_count": 43,
   "id": "2b693ec5",
   "metadata": {},
   "outputs": [],
   "source": [
    "early_stopping = EarlyStopping(monitor='val_loss',patience=5,restore_best_weights=True)\n",
    "checkpoint=ModelCheckpoint('c:/data/model_weights/dbL.hdf5',monitor='val_loss',verbose=0,mode='min',save_best_only=True)\n",
    "fit_history=dbL.fit(to_put(tin_m,100),toutb_m,\n",
    "                         validation_data=(to_put(vin_m,100),voutb_m),batch_size=1000,epochs=300,\n",
    "                         callbacks=[checkpoint,early_stopping],verbose=0)"
   ]
  },
  {
   "cell_type": "code",
   "execution_count": null,
   "id": "d450979c",
   "metadata": {},
   "outputs": [],
   "source": [
    "## use rmsprop or adam?\n",
    "## 15_3,25_5,35_7,5_75\n",
    "## 15_3\n",
    "def cbL(inputs,outputb,proportion):\n",
    "    base='c:/data/model_weights/0303/cbL'+proportion+'.hdf5'\n",
    "    model=Sequential([\n",
    "        LSTM(30,input_shape=(100,1)),\n",
    "        Dense(2,activation='softmax')\n",
    "    ])\n",
    "    model.compile(loss='categorical_crossentropy',metrics=['accuracy'],optimizer='rmsprop')\n",
    "    early_stopping = EarlyStopping(monitor='val_loss',patience=5,restore_best_weights=True)\n",
    "    checkpoint=ModelCheckpoint(base,\n",
    "                           monitor='val_loss',verbose=0,mode='min',save_best_only=True)\n",
    "    fit_history=model.fit(to_put(inputs[0],100),outputb[0],\n",
    "                         validation_data=(to_put(inputs[1],100),outputb[1]),batch_size=1000,epochs=300,\n",
    "                         callbacks=[checkpoint,early_stopping],verbose=0)\n",
    "    return model,fit_history"
   ]
  },
  {
   "cell_type": "code",
   "execution_count": 193,
   "id": "197b6ca5",
   "metadata": {},
   "outputs": [],
   "source": [
    "din_15_3,doutb_15_3,doutm_15_3=load_d2set(15,3,80000,110000)\n",
    "din_25_5,doutb_25_5,doutm_25_5=load_d2set(25,5,80000,110000)\n",
    "din_35_7,doutb_35_7,doutm_35_7=load_d2set(35,7,80000,110000)\n",
    "din_5_75,doutb_5_75,doutm_5_75=load_d2set(5,75,80000,110000)"
   ]
  },
  {
   "cell_type": "code",
   "execution_count": 196,
   "id": "e8bb1db5",
   "metadata": {},
   "outputs": [],
   "source": [
    "ddin=[din_15_3[2],din_25_5[2],din_35_7[2],din_5_75[2]]\n",
    "ddoutb=[doutb_15_3[2],doutb_25_5[2],doutb_35_7[2],doutb_5_75[2]]"
   ]
  },
  {
   "cell_type": "code",
   "execution_count": 199,
   "id": "f9aa0c68",
   "metadata": {},
   "outputs": [],
   "source": [
    "ddadf=[d15_3_adf,d25_5_adf,d35_7_adf,d5_75_adf]"
   ]
  },
  {
   "cell_type": "code",
   "execution_count": 201,
   "id": "c4dcfbeb",
   "metadata": {
    "scrolled": true
   },
   "outputs": [
    {
     "name": "stdout",
     "output_type": "stream",
     "text": [
      "313/313 [==============================] - 2s 6ms/step - loss: 0.0340 - accuracy: 0.9880\n",
      "313/313 [==============================] - 1s 4ms/step - loss: 0.0443 - accuracy: 0.9813\n",
      "313/313 [==============================] - 1s 4ms/step - loss: 0.0453 - accuracy: 0.9813\n",
      "313/313 [==============================] - 1s 4ms/step - loss: 0.0366 - accuracy: 0.9849\n",
      "96/96 [==============================] - 0s 4ms/step\n",
      "158/158 [==============================] - 1s 4ms/step\n",
      "220/220 [==============================] - 1s 4ms/step\n",
      "235/235 [==============================] - 1s 4ms/step\n",
      "217/217 [==============================] - 1s 4ms/step\n",
      "156/156 [==============================] - 1s 4ms/step\n",
      "94/94 [==============================] - 0s 4ms/step\n",
      "79/79 [==============================] - 0s 4ms/step\n"
     ]
    }
   ],
   "source": [
    "ddset_acc=table_acc(dbL,ddin,ddoutb,ddadf)\n",
    "ddset_size=table_size(dbL,ddin,ddoutb,ddadf)\n",
    "ddset_power=table_power(dbL,ddin,ddoutb,ddadf)"
   ]
  },
  {
   "cell_type": "markdown",
   "id": "140a1806",
   "metadata": {},
   "source": [
    "### c2set만 해도 충분하다"
   ]
  },
  {
   "cell_type": "code",
   "execution_count": 48,
   "id": "eeb99dd0",
   "metadata": {},
   "outputs": [
    {
     "data": {
      "text/plain": [
       "{'model': [0.965, 0.959, 0.958, 0.951, 0.944, 0.945],\n",
       " 'adf_1%': [0.9337, 0.9347, 0.9324, 0.9333, 0.9311, 0.9352],\n",
       " 'adf_5%': [0.9521, 0.9348, 0.9216, 0.901, 0.8795, 0.8716],\n",
       " 'adf_10%': [0.9536, 0.9232, 0.8991, 0.862, 0.8342, 0.8093]}"
      ]
     },
     "execution_count": 48,
     "metadata": {},
     "output_type": "execute_result"
    }
   ],
   "source": [
    "c2set_acc"
   ]
  },
  {
   "cell_type": "code",
   "execution_count": 49,
   "id": "0ad52832",
   "metadata": {},
   "outputs": [],
   "source": [
    "p = 0.3\n",
    "label = rf\"$\\mathrm{{dataset}}_{{{p}}}$\""
   ]
  },
  {
   "cell_type": "code",
   "execution_count": 50,
   "id": "5bef003d",
   "metadata": {},
   "outputs": [
    {
     "data": {
      "text/plain": [
       "'$\\\\mathrm{dataset}_{0.3}$'"
      ]
     },
     "execution_count": 50,
     "metadata": {},
     "output_type": "execute_result"
    }
   ],
   "source": [
    "label"
   ]
  },
  {
   "cell_type": "code",
   "execution_count": 58,
   "id": "9a91a041",
   "metadata": {},
   "outputs": [
    {
     "data": {
      "image/png": "[encoded data removed]",
      "text/plain": [
       "<Figure size 500x300 with 1 Axes>"
      ]
     },
     "metadata": {},
     "output_type": "display_data"
    },
    {
     "data": {
      "text/plain": [
       "<Figure size 640x480 with 0 Axes>"
      ]
     },
     "metadata": {},
     "output_type": "display_data"
    }
   ],
   "source": [
    "plt.figure(figsize=(5,3))\n",
    "x=['data1','data2','data3','data4','data5','data6']\n",
    "plt.plot(x,c2set_acc['model'],linestyle='solid',label='classifier')\n",
    "plt.plot(x,c2set_acc['adf_1%'],linestyle='dashed',label='adf_1%')\n",
    "plt.plot(x,c2set_acc['adf_5%'],linestyle='dashed',label='adf_5%')\n",
    "plt.plot(x,c2set_acc['adf_10%'],linestyle='dashed',label='adf_10%')\n",
    "plt.ylabel('accuracy')\n",
    "plt.xlabel('dataset')\n",
    "\n",
    "plt.legend()\n",
    "#plt.legend(['dm','dadf1','dadf5','dadf10','cm','cadf1','cadf5','cadf10'])\n",
    "plt.show()\n",
    "plt.savefig('combineacc.png')"
   ]
  },
  {
   "cell_type": "code",
   "execution_count": null,
   "id": "1745d85c",
   "metadata": {},
   "outputs": [],
   "source": [
    "early_stopping = EarlyStopping(monitor='val_loss',patience=5,restore_best_weights=True)\n",
    "checkpoint=ModelCheckpoint('c:/data/model_weights/dbL.hdf5',monitor='val_loss',verbose=0,mode='min',save_best_only=True)\n",
    "fit_history=dbL.fit(to_put(tin_m,100),toutb_m,\n",
    "                         validation_data=(to_put(vin_m,100),voutb_m),batch_size=1000,epochs=300,\n",
    "                         callbacks=[checkpoint,early_stopping],verbose=0)"
   ]
  },
  {
   "cell_type": "code",
   "execution_count": 27,
   "id": "9c30f50b",
   "metadata": {},
   "outputs": [],
   "source": [
    "dmL=Sequential([\n",
    "    LSTM(30,input_shape=(100,1)),\n",
    "    Dense(3,activation='softmax')\n",
    "])\n",
    "dmL.compile(loss='categorical_crossentropy',metrics=['accuracy'],optimizer='rmsprop')\n",
    "early_stopping = EarlyStopping(monitor='val_loss',patience=5,restore_best_weights=True)\n",
    "checkpoint=ModelCheckpoint('c:/data/model_weights/dmL.hdf5',monitor='val_loss',verbose=0,mode='min',save_best_only=True)\n",
    "#나에게 너를 초대할 뿐야 신비로운 너의 모습 나에게는 사랑인걸\n",
    "# 조금씩 다가오는 널 느낄 수록 신비로운 너의 모습 나에게는 사랑인 걸\n",
    "# 조금씩 멈춰지는 시간 속의 널 어둠 속의 비처럼 다가설 수 어둠 속의 한 줄기 빛처럼 느껴~ my love~\n",
    "dmL_history=dmL.fit(to_put(tin,100),toutm,\n",
    "                         validation_data=(to_put(vin,100),voutm),batch_size=1000,epochs=300,\n",
    "                         callbacks=[checkpoint,early_stopping],verbose=0)"
   ]
  },
  {
   "cell_type": "code",
   "execution_count": 28,
   "id": "2f2cb615",
   "metadata": {},
   "outputs": [
    {
     "name": "stdout",
     "output_type": "stream",
     "text": [
      "938/938 [==============================] - 4s 4ms/step - loss: 0.1431 - accuracy: 0.9447\n"
     ]
    },
    {
     "data": {
      "text/plain": [
       "[0.14312489330768585, 0.9447333216667175]"
      ]
     },
     "execution_count": 28,
     "metadata": {},
     "output_type": "execute_result"
    }
   ],
   "source": [
    "dmL.evaluate(to_put(tein,100),teoutm)"
   ]
  },
  {
   "cell_type": "code",
   "execution_count": 26,
   "id": "4f765d48",
   "metadata": {},
   "outputs": [],
   "source": [
    "tin,toutb,toutm=dgenerator(10000,0.5,100)\n",
    "vin,voutb,voutm=dgenerator(30000,0.5,100)\n",
    "tein,teoutb,teoutm=dgenerator(30000,0.5,100)"
   ]
  },
  {
   "cell_type": "code",
   "execution_count": 49,
   "id": "50373c2e",
   "metadata": {},
   "outputs": [],
   "source": [
    "fin=pd.read_csv('c:/data/dataset/fin.csv',header=None).to_numpy()"
   ]
  },
  {
   "cell_type": "code",
   "execution_count": 30,
   "id": "0fdac9ad",
   "metadata": {},
   "outputs": [],
   "source": [
    "export_df(np.concatenate((tin,vin,tein),axis=0),'fin')\n",
    "export_df(np.concatenate((toutb,voutb,teoutb),axis=0),'foutb')\n",
    "export_df(np.concatenate((toutm,voutm,teoutm),axis=0),'foutm')\n",
    "np.save('c:/data/model_weights/0303/fte_adf.npy',fte_adf)"
   ]
  },
  {
   "cell_type": "code",
   "execution_count": 64,
   "id": "0a9debf2",
   "metadata": {},
   "outputs": [],
   "source": [
    "dtrin,dtroutb,dtroutm=dgenerator(100000,0.5,100)\n",
    "dvin,dvoutb,dvoutm=dgenerator(30000,0.5,100)\n",
    "dtein,dteoutb,dteoutm=dgenerator(10000,0.5,100)\n",
    "export_df(np.concatenate((dtrin,dvin,dtein),axis=0),'fdin')\n",
    "export_df(np.concatenate((dtroutb,dvoutb,dteoutb),axis=0),'fdoutb')\n",
    "export_df(np.concatenate((dtroutm,dvoutm,dteoutm),axis=0),'fdoutm')"
   ]
  },
  {
   "cell_type": "code",
   "execution_count": 67,
   "id": "d61d5abb",
   "metadata": {},
   "outputs": [],
   "source": [
    "dbL=Sequential([\n",
    "    LSTM(30,input_shape=(100,1)),\n",
    "    Dense(2,activation='softmax')\n",
    "])\n",
    "dbL.compile(loss='categorical_crossentropy',metrics=['accuracy'],optimizer='rmsprop')\n",
    "early_stopping = EarlyStopping(monitor='val_loss',patience=10,restore_best_weights=True)\n",
    "checkpoint=ModelCheckpoint('c:/data/model_weights/dbL.hdf5',monitor='val_loss',verbose=0,mode='min',save_best_only=True)\n",
    "dbL_history=dbL.fit(to_put(dtrin,100),dtroutb,\n",
    "                         validation_data=(to_put(dvin,100),dvoutb),batch_size=1000,epochs=300,\n",
    "                         callbacks=[checkpoint,early_stopping],verbose=0)"
   ]
  },
  {
   "cell_type": "code",
   "execution_count": 68,
   "id": "5a25d55c",
   "metadata": {},
   "outputs": [],
   "source": [
    "dmL=Sequential([\n",
    "    LSTM(30,input_shape=(100,1)),\n",
    "    Dense(3,activation='softmax')\n",
    "])\n",
    "dmL.compile(loss='categorical_crossentropy',metrics=['accuracy'],optimizer='rmsprop')\n",
    "early_stopping = EarlyStopping(monitor='val_loss',patience=10,restore_best_weights=True)\n",
    "checkpoint=ModelCheckpoint('c:/data/model_weights/dmL.hdf5',monitor='val_loss',verbose=0,mode='min',save_best_only=True)\n",
    "dmL_history=dmL.fit(to_put(dtrin,100),dtroutm,\n",
    "                         validation_data=(to_put(dvin,100),dvoutm),batch_size=1000,epochs=300,\n",
    "                         callbacks=[checkpoint,early_stopping],verbose=0)"
   ]
  },
  {
   "cell_type": "code",
   "execution_count": 69,
   "id": "e50a7816",
   "metadata": {},
   "outputs": [],
   "source": [
    "dtein_adf=adf_test(dtein)\n",
    "np.save('c:/data/dtein_adf.npy',dtein_adf)"
   ]
  },
  {
   "cell_type": "code",
   "execution_count": 217,
   "id": "a5063a2e",
   "metadata": {},
   "outputs": [],
   "source": [
    "idx0,idx1,idx2=extin(dteoutm)"
   ]
  },
  {
   "cell_type": "code",
   "execution_count": 218,
   "id": "6cf33658",
   "metadata": {},
   "outputs": [
    {
     "name": "stdout",
     "output_type": "stream",
     "text": [
      "313/313 [==============================] - 1s 5ms/step - loss: 0.1000 - accuracy: 0.9614\n"
     ]
    },
    {
     "data": {
      "text/plain": [
       "[0.09997593611478806, 0.9613999724388123]"
      ]
     },
     "execution_count": 218,
     "metadata": {},
     "output_type": "execute_result"
    }
   ],
   "source": [
    "dmL.evaluate(to_put(dtein,100),dteoutm)"
   ]
  },
  {
   "cell_type": "code",
   "execution_count": 227,
   "id": "8d9e689f",
   "metadata": {},
   "outputs": [
    {
     "name": "stdout",
     "output_type": "stream",
     "text": [
      "313/313 [==============================] - 2s 5ms/step - loss: 0.1021 - accuracy: 0.9645\n",
      "313/313 [==============================] - 1s 4ms/step - loss: 0.1583 - accuracy: 0.9487\n",
      "313/313 [==============================] - 1s 4ms/step - loss: 0.2118 - accuracy: 0.9264\n",
      "313/313 [==============================] - 1s 4ms/step - loss: 0.2766 - accuracy: 0.9134\n",
      "313/313 [==============================] - 1s 4ms/step - loss: 0.3447 - accuracy: 0.8898\n",
      "313/313 [==============================] - 1s 4ms/step - loss: 0.3931 - accuracy: 0.8745\n"
     ]
    }
   ],
   "source": [
    "m_acc=table_accm(dmL,cin_set,coutm_set,cadf_set)"
   ]
  },
  {
   "cell_type": "code",
   "execution_count": 230,
   "id": "e6022548",
   "metadata": {},
   "outputs": [
    {
     "name": "stdout",
     "output_type": "stream",
     "text": [
      "313/313 [==============================] - 1s 4ms/step - loss: 0.1000 - accuracy: 0.9614\n"
     ]
    }
   ],
   "source": [
    "dm_acc=table_accm(dmL,[dtein],[dteoutm],[dtein_adf])"
   ]
  },
  {
   "cell_type": "code",
   "execution_count": 231,
   "id": "3cf4d6a7",
   "metadata": {},
   "outputs": [
    {
     "data": {
      "text/plain": [
       "{'model': [0.961], 'adf_1%': [0.9307], 'adf_5%': [0.9013], 'adf_10%': [0.8563]}"
      ]
     },
     "execution_count": 231,
     "metadata": {},
     "output_type": "execute_result"
    }
   ],
   "source": [
    "dm_acc"
   ]
  },
  {
   "cell_type": "code",
   "execution_count": 15,
   "id": "c26762e5",
   "metadata": {},
   "outputs": [],
   "source": [
    "def  table_size(model,input_set,output_set,adf_set):\n",
    "        result={}\n",
    "        classifier_size=[]\n",
    "        for inputs,outputs in zip(input_set,output_set):\n",
    "            classifier_size.append(model_size(model,inputs,outputs))\n",
    "        result['model']=classifier_size\n",
    "\n",
    "        size_adf1=[]\n",
    "        for adf,inputs,outputs in zip(adf_set,input_set,output_set):\n",
    "            size_adf1.append(adf_size(adf,inputs,outputs,'1%'))\n",
    "        result['adf_1%']=size_adf1\n",
    "        \n",
    "        size_adf5=[]\n",
    "        for adf,inputs,outputs in zip(adf_set,input_set,output_set):\n",
    "            size_adf5.append(adf_size(adf,inputs,outputs,'5%'))\n",
    "        result['adf_5%']=size_adf5\n",
    "        \n",
    "        size_adf10=[]\n",
    "        for adf,inputs,outputs in zip(adf_set,input_set,output_set):\n",
    "            size_adf10.append(adf_size(adf,inputs,outputs,'10%'))\n",
    "        result['adf_10%']=size_adf10\n",
    "        return result\n",
    "    \n",
    "def adf_size(adf,inputs,outputs,sig): # 이건 binary일 경우. 그니까 accu\n",
    "    in0,out0,idx0=sort_H0(inputs,outputs)\n",
    "    size=np.round(np.sum(adf[sig]['bi'][idx0],axis=0)[1]/len(idx0),3)\n",
    "    return size"
   ]
  },
  {
   "cell_type": "code",
   "execution_count": 228,
   "id": "127233dc",
   "metadata": {},
   "outputs": [
    {
     "data": {
      "text/plain": [
       "{'model': [0.965, 0.949, 0.926, 0.913, 0.89, 0.874],\n",
       " 'adf_1%': [0.9217, 0.9139, 0.8914, 0.8858, 0.8686, 0.8582],\n",
       " 'adf_5%': [0.937, 0.9007, 0.8599, 0.8293, 0.7889, 0.7548],\n",
       " 'adf_10%': [0.9282, 0.8715, 0.8118, 0.761, 0.6987, 0.6513]}"
      ]
     },
     "execution_count": 228,
     "metadata": {},
     "output_type": "execute_result"
    }
   ],
   "source": [
    "# dmL은 0.25/0.25/0.5\n",
    "# 0.15/0.3/0.45/0.6/0.75/0.9\n",
    "m_acc"
   ]
  },
  {
   "cell_type": "code",
   "execution_count": 234,
   "id": "70dbecc0",
   "metadata": {},
   "outputs": [
    {
     "name": "stdout",
     "output_type": "stream",
     "text": [
      "79/79 [==============================] - 1s 7ms/step - loss: 0.1114 - accuracy: 0.9652\n",
      "0.965\n",
      "0.9336\n",
      "0.7896\n",
      "0.6516\n"
     ]
    }
   ],
   "source": [
    "idx=idx2\n",
    "outputs=dteoutm[idx2]\n",
    "inputs=dtein[idx2]\n",
    "#\n",
    "print(np.round(dmL.evaluate(to_put(inputs,100),outputs)[1],3))\n",
    "print(acc_cal(dtein_adf['1%']['multi'][idx],outputs))\n",
    "print(acc_cal(dtein_adf['5%']['multi'][idx],outputs))\n",
    "print(acc_cal(dtein_adf['10%']['multi'][idx],outputs))"
   ]
  },
  {
   "cell_type": "code",
   "execution_count": 235,
   "id": "dbed226c",
   "metadata": {
    "scrolled": true
   },
   "outputs": [
    {
     "name": "stdout",
     "output_type": "stream",
     "text": [
      "79/79 [==============================] - 1s 7ms/step - loss: 0.2043 - accuracy: 0.9160\n",
      "0.916\n",
      "0.9124\n",
      "0.8684\n",
      "0.8076\n"
     ]
    }
   ],
   "source": [
    "idx=idx1\n",
    "outputs=dteoutm[idx]\n",
    "inputs=dtein[idx]\n",
    "#\n",
    "print(np.round(dmL.evaluate(to_put(inputs,100),outputs)[1],3))\n",
    "print(acc_cal(dtein_adf['1%']['multi'][idx],outputs))\n",
    "print(acc_cal(dtein_adf['5%']['multi'][idx],outputs))\n",
    "print(acc_cal(dtein_adf['10%']['multi'][idx],outputs))"
   ]
  },
  {
   "cell_type": "code",
   "execution_count": 236,
   "id": "ea475ebc",
   "metadata": {},
   "outputs": [
    {
     "name": "stdout",
     "output_type": "stream",
     "text": [
      "157/157 [==============================] - 1s 6ms/step - loss: 0.0421 - accuracy: 0.9822\n",
      "0.982\n",
      "0.9384\n",
      "0.9736\n",
      "0.983\n"
     ]
    }
   ],
   "source": [
    "idx=idx0\n",
    "outputs=dteoutm[idx]\n",
    "inputs=dtein[idx]\n",
    "#\n",
    "print(np.round(dmL.evaluate(to_put(inputs,100),outputs)[1],3))\n",
    "print(acc_cal(dtein_adf['1%']['multi'][idx],outputs))\n",
    "print(acc_cal(dtein_adf['5%']['multi'][idx],outputs))\n",
    "print(acc_cal(dtein_adf['10%']['multi'][idx],outputs))"
   ]
  },
  {
   "cell_type": "code",
   "execution_count": 213,
   "id": "adaa5fe3",
   "metadata": {},
   "outputs": [],
   "source": [
    "# array: 3d output vector\n",
    "def extin(array):\n",
    "    '''\n",
    "    note that \n",
    "    idx0 means stationary time series index\n",
    "    idx1 means unit root time series idx having 1 unit root\n",
    "    idx2 means unit root time series idx having 2 unit root\n",
    "    '''\n",
    "    idx0=[]\n",
    "    idx1=[]\n",
    "    idx2=[]\n",
    "    for i,x in enumerate(array):\n",
    "        if x[0]==1:\n",
    "            idx2.append(i)\n",
    "        elif x[1]==1:\n",
    "            idx1.append(i)\n",
    "        elif x[-1]==1:\n",
    "            idx0.append(i)\n",
    "    return idx0,idx1,idx2"
   ]
  },
  {
   "cell_type": "code",
   "execution_count": 246,
   "id": "fe98fe78",
   "metadata": {},
   "outputs": [],
   "source": [
    "# d일 떄는 그냥 combine 없으니까 case1으로 생성해주면 된다.\n",
    "# p: proportion of Ho dataset\n",
    "# mdd\n",
    "def dmgenerator(timesteps):\n",
    "    inputs=[]\n",
    "    outputs_b=[]\n",
    "    outputs_m=[]\n",
    "\n",
    "    zero=10000\n",
    "    one=10000 # stationary\n",
    "    two=10000\n",
    "    #\n",
    "    while zero:\n",
    "        zero-=1\n",
    "        phi1,phi2=stationary_ar2()\n",
    "        series=stationary_series_ar2(phi1,phi2,100)\n",
    "        inputs.append(series)\n",
    "        outputs_b.append([0,1])\n",
    "        outputs_m.append([0,0,1])\n",
    "    diff_order=1\n",
    "    while one:\n",
    "        one-=1\n",
    "        phi1,phi2=stationary_ar2()\n",
    "        series=unitroot_series_1(phi1,phi2,diff_order,timesteps,1)\n",
    "        inputs.append(series)\n",
    "        outputs_b.append([1,0])\n",
    "        outputs_m.append([0,1,0])\n",
    "    diff_order=2\n",
    "    while two:\n",
    "        two-=1\n",
    "        phi1,phi2=stationary_ar2()\n",
    "        series=unitroot_series_1(phi1,phi2,diff_order,timesteps,1)\n",
    "        inputs.append(series)\n",
    "        outputs_b.append([1,0])\n",
    "        outputs_m.append([1,0,0])\n",
    "    #\n",
    "    inputs=np.array(inputs)\n",
    "    outputs_b=np.array(outputs_b)\n",
    "    outputs_m=np.array(outputs_m)\n",
    "    assert n==len(inputs)==len(outputs_b)==len(outputs_m)\n",
    "    return inputs,outputs_b,outputs_m"
   ]
  },
  {
   "cell_type": "code",
   "execution_count": 247,
   "id": "b482584d",
   "metadata": {},
   "outputs": [],
   "source": [
    "minn,moutb,moutm=dmgenerator(100)# ur0,ur1,ur2순 10000개씩"
   ]
  },
  {
   "cell_type": "code",
   "execution_count": 248,
   "id": "cdb08b93",
   "metadata": {},
   "outputs": [
    {
     "name": "stdout",
     "output_type": "stream",
     "text": [
      "[    0     0 10000]\n",
      "[    0 10000     0]\n",
      "[10000     0     0]\n"
     ]
    }
   ],
   "source": [
    "print(np.sum(moutm[:10000],axis=0))\n",
    "print(np.sum(moutm[10000:20000],axis=0))\n",
    "print(np.sum(moutm[20000:30000],axis=0))"
   ]
  },
  {
   "cell_type": "code",
   "execution_count": 249,
   "id": "8a1c50ce",
   "metadata": {},
   "outputs": [],
   "source": [
    "m_adf=adf_test(minn)"
   ]
  },
  {
   "cell_type": "code",
   "execution_count": 255,
   "id": "9e317843",
   "metadata": {},
   "outputs": [
    {
     "name": "stdout",
     "output_type": "stream",
     "text": [
      "313/313 [==============================] - 1s 5ms/step - loss: 0.0450 - accuracy: 0.9831\n"
     ]
    },
    {
     "data": {
      "text/plain": [
       "0.9830999970436096"
      ]
     },
     "execution_count": 255,
     "metadata": {},
     "output_type": "execute_result"
    }
   ],
   "source": [
    "interval=10000\n",
    "i=0\n",
    "dmL.evaluate(to_put(minn[interval*i:interval*(i+1)],100),moutm[interval*i:interval*(i+1)])[1]"
   ]
  },
  {
   "cell_type": "code",
   "execution_count": 258,
   "id": "e871e08e",
   "metadata": {},
   "outputs": [
    {
     "data": {
      "text/plain": [
       "array([0.983, 0.915, 0.969])"
      ]
     },
     "execution_count": 258,
     "metadata": {},
     "output_type": "execute_result"
    }
   ],
   "source": [
    "np.round(m_accuracy,3)"
   ]
  },
  {
   "cell_type": "code",
   "execution_count": 256,
   "id": "0a52cf49",
   "metadata": {},
   "outputs": [
    {
     "name": "stdout",
     "output_type": "stream",
     "text": [
      "313/313 [==============================] - 2s 5ms/step - loss: 0.0450 - accuracy: 0.9831\n",
      "313/313 [==============================] - 1s 4ms/step - loss: 0.2074 - accuracy: 0.9150\n",
      "313/313 [==============================] - 1s 4ms/step - loss: 0.1050 - accuracy: 0.9694\n"
     ]
    }
   ],
   "source": [
    "m_accuracy=[dmL.evaluate(to_put(minn[interval*i:interval*(i+1)],100),moutm[interval*i:interval*(i+1)])[1] for i in range(3)]"
   ]
  },
  {
   "cell_type": "code",
   "execution_count": 261,
   "id": "b908158d",
   "metadata": {},
   "outputs": [],
   "source": [
    "adf1_accuracy=[acc_cal(m_adf['1%']['multi'][interval*i:interval*(i+1)],moutm[interval*i:interval*(i+1)]) for i in range(3)]\n",
    "adf5_accuracy=[acc_cal(m_adf['5%']['multi'][interval*i:interval*(i+1)],moutm[interval*i:interval*(i+1)]) for i in range(3)]\n",
    "adf10_accuracy=[acc_cal(m_adf['10%']['multi'][interval*i:interval*(i+1)],moutm[interval*i:interval*(i+1)]) for i in range(3)]"
   ]
  },
  {
   "cell_type": "code",
   "execution_count": 265,
   "id": "380cb7d3",
   "metadata": {},
   "outputs": [],
   "source": [
    "m_accuracy=np.round(m_accuracy,3)\n",
    "m_accuracy"
   ]
  },
  {
   "cell_type": "code",
   "execution_count": 272,
   "id": "af70ee46",
   "metadata": {},
   "outputs": [
    {
     "name": "stdout",
     "output_type": "stream",
     "text": [
      "[0.983 0.915 0.969]\n",
      "[0.935 0.912 0.94 ]\n",
      "[0.972 0.874 0.799]\n",
      "[0.982 0.8   0.666]\n"
     ]
    }
   ],
   "source": [
    "print(m_accuracy)\n",
    "print(np.round(adf1_accuracy,3))\n",
    "print(np.round(adf5_accuracy,3))\n",
    "print(np.round(adf10_accuracy,3))"
   ]
  },
  {
   "cell_type": "code",
   "execution_count": 1,
   "id": "31c96ce9",
   "metadata": {},
   "outputs": [
    {
     "data": {
      "text/plain": [
       "77"
      ]
     },
     "execution_count": 1,
     "metadata": {},
     "output_type": "execute_result"
    }
   ],
   "source": [
    "2025-1949+1"
   ]
  },
  {
   "cell_type": "code",
   "execution_count": 269,
   "id": "8c165232",
   "metadata": {},
   "outputs": [
    {
     "name": "stdout",
     "output_type": "stream",
     "text": [
      "[0.048 0.003 0.029]\n",
      "[0.011 0.041 0.17 ]\n",
      "[0.001 0.115 0.303]\n"
     ]
    }
   ],
   "source": [
    "## ADF검정에서 높은 유의수준은 웬만하면 unit root series라고 판단한다는 거니까 당근 높을 수밖에 없지. > 이것까지 해석에 ㄱㄱ\n",
    "## ur0,ur1,ur2순 \n",
    "print(np.round(diff_adf1,3))\n",
    "print(np.round(diff_adf5,3))\n",
    "print(np.round(diff_adf10,3))"
   ]
  },
  {
   "cell_type": "code",
   "execution_count": 267,
   "id": "9c885ab5",
   "metadata": {},
   "outputs": [],
   "source": [
    "diff_adf1=[m_accuracy[i]-adf1_accuracy[i]  for i in range(3)]\n",
    "diff_adf5=[m_accuracy[i]-adf5_accuracy[i]  for i in range(3)]\n",
    "diff_adf10=[m_accuracy[i]-adf10_accuracy[i]  for i in range(3)]"
   ]
  },
  {
   "cell_type": "code",
   "execution_count": null,
   "id": "a1029306",
   "metadata": {},
   "outputs": [],
   "source": [
    "diff_adf1=[m_accuracy[i]-adf1_accuracy[i] for i in range(3)]\n",
    "diff_adf5=[m_accuracy[i]-adf5_accuracy[i] for i in range(3)]\n",
    "diff_adf10=[m_accuracy[i]-adf10_accuracy[i] for i in range(3)]"
   ]
  },
  {
   "cell_type": "code",
   "execution_count": 251,
   "id": "60f37d0b",
   "metadata": {},
   "outputs": [],
   "source": [
    "np.save('c:/data/m_adf.npy',m_adf)"
   ]
  },
  {
   "cell_type": "code",
   "execution_count": 250,
   "id": "29d5d824",
   "metadata": {},
   "outputs": [],
   "source": [
    "export_df(minn,'minn')\n",
    "export_df(moutb,'moutb')\n",
    "export_df(moutm,'moutm')"
   ]
  }
 ],
 "metadata": {
  "kernelspec": {
   "display_name": "gpu_tf",
   "language": "python",
   "name": "venvv"
  },
  "language_info": {
   "codemirror_mode": {
    "name": "ipython",
    "version": 3
   },
   "file_extension": ".py",
   "mimetype": "text/x-python",
   "name": "python",
   "nbconvert_exporter": "python",
   "pygments_lexer": "ipython3",
   "version": "3.9.21"
  }
 },
 "nbformat": 4,
 "nbformat_minor": 5
}
