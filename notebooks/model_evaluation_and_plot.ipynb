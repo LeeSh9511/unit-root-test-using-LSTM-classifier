{
 "cells": [
  {
   "cell_type": "code",
   "execution_count": 11,
   "id": "7cbe8ee0",
   "metadata": {},
   "outputs": [
    {
     "data": {
      "text/plain": [
       "{'divide': 'ignore', 'over': 'warn', 'under': 'ignore', 'invalid': 'warn'}"
      ]
     },
     "execution_count": 11,
     "metadata": {},
     "output_type": "execute_result"
    }
   ],
   "source": [
    "%matplotlib inline\n",
    "import matplotlib\n",
    "import matplotlib.pyplot as plt\n",
    "import seaborn as sns\n",
    "\n",
    "from keras.callbacks import EarlyStopping\n",
    "from pmdarima.utils import diff_inv\n",
    "import statsmodels.api as sm\n",
    "import statsmodels\n",
    "import random\n",
    "import itertools\n",
    "import numpy as np\n",
    "import pandas as pd\n",
    "import tensorflow as tf\n",
    "from tensorflow.keras.layers import LSTM,Dense\n",
    "from tensorflow.keras.models import Sequential,load_model,Model\n",
    "from statsmodels.tsa.arima_process import arma_generate_sample\n",
    "from tensorflow.keras.callbacks import ModelCheckpoint\n",
    "import tensorflow.keras.backend as K\n",
    "from collections import defaultdict,Counter\n",
    "\n",
    "import warnings\n",
    "warnings.filterwarnings(\"ignore\")\n",
    "np.seterr(divide='ignore')"
   ]
  },
  {
   "cell_type": "code",
   "execution_count": 12,
   "id": "dee3e9bf",
   "metadata": {},
   "outputs": [],
   "source": [
    "def acc_cal(test,true):\n",
    "    assert test.shape==true.shape\n",
    "    cnt=0\n",
    "    length=true.shape[-1]\n",
    "    for x,y in zip(test,true):\n",
    "        if sum(x==y)==length:\n",
    "            cnt+=1\n",
    "    return cnt/true.shape[0]\n",
    "\n",
    "def to_put(array,timesteps):\n",
    "    array=array[:,:timesteps]\n",
    "    array=array.reshape((array.shape[0],array.shape[1],1))\n",
    "    return array"
   ]
  },
  {
   "cell_type": "code",
   "execution_count": 13,
   "id": "322b5f07",
   "metadata": {},
   "outputs": [],
   "source": [
    "# table은 기본적으로 binary classification 기준\n",
    "def  table_acc(model,input_set,output_set,adf_set):\n",
    "        result={}\n",
    "        classifier_acc=[]\n",
    "        for inputs,outputs in zip(input_set,output_set):\n",
    "            classifier_acc.append(np.round(model.evaluate(to_put(inputs,100),outputs)[1],3))\n",
    "        result['model']=classifier_acc\n",
    "\n",
    "        acc_adf1=[]\n",
    "        for adf,outputs in zip(adf_set,output_set):\n",
    "            acc_adf1.append(acc_cal(adf['1%']['bi'],outputs))\n",
    "        result['adf_1%']=acc_adf1\n",
    "        acc_adf5=[]\n",
    "        for adf,outputs in zip(adf_set,output_set):\n",
    "            acc_adf5.append(acc_cal(adf['5%']['bi'],outputs))\n",
    "        result['adf_5%']=acc_adf5\n",
    "        acc_adf10=[]\n",
    "        for adf,outputs in zip(adf_set,output_set):\n",
    "            acc_adf10.append(acc_cal(adf['10%']['bi'],outputs))\n",
    "        result['adf_10%']=acc_adf10\n",
    "        return result\n",
    "## multi acc\n",
    "def  table_accm(model,input_set,output_set,adf_set):\n",
    "        result={}\n",
    "        classifier_acc=[]\n",
    "        for inputs,outputs in zip(input_set,output_set):\n",
    "            classifier_acc.append(np.round(model.evaluate(to_put(inputs,100),outputs)[1],3))\n",
    "        result['model']=classifier_acc\n",
    "        acc_adf1=[]\n",
    "        for adf,outputs in zip(adf_set,output_set):\n",
    "            acc_adf1.append(acc_cal(adf['1%']['multi'],outputs))\n",
    "        result['adf_1%']=acc_adf1    \n",
    "        acc_adf5=[]\n",
    "        for adf,outputs in zip(adf_set,output_set):\n",
    "            acc_adf5.append(acc_cal(adf['5%']['multi'],outputs))\n",
    "        result['adf_5%']=acc_adf5\n",
    "        acc_adf10=[]\n",
    "        for adf,outputs in zip(adf_set,output_set):\n",
    "            acc_adf10.append(acc_cal(adf['10%']['multi'],outputs))\n",
    "        result['adf_10%']=acc_adf10        \n",
    "        return result"
   ]
  },
  {
   "cell_type": "code",
   "execution_count": 35,
   "id": "bc57673e",
   "metadata": {},
   "outputs": [],
   "source": [
    "def  table_size(model,input_set,output_set,adf_set):\n",
    "        result={}\n",
    "        classifier_size=[]\n",
    "        for inputs,outputs in zip(input_set,output_set):\n",
    "            classifier_size.append(model_size(model,inputs,outputs))\n",
    "        result['model']=classifier_size\n",
    "        size_adf1=[]\n",
    "        for adf,inputs,outputs in zip(adf_set,input_set,output_set):\n",
    "            size_adf1.append(adf_size(adf,inputs,outputs,'1%'))\n",
    "        result['adf_1%']=size_adf1\n",
    "        size_adf5=[]\n",
    "        for adf,inputs,outputs in zip(adf_set,input_set,output_set):\n",
    "            size_adf5.append(adf_size(adf,inputs,outputs,'5%'))\n",
    "        result['adf_5%']=size_adf5\n",
    "        size_adf10=[]\n",
    "        for adf,inputs,outputs in zip(adf_set,input_set,output_set):\n",
    "            size_adf10.append(adf_size(adf,inputs,outputs,'10%'))\n",
    "        result['adf_10%']=size_adf10\n",
    "        return result\n",
    "def adf_size(adf,inputs,outputs,sig):\n",
    "    in0,out0,idx0=sort_H0(inputs,outputs)\n",
    "    size=np.round(np.sum(adf[sig]['bi'][idx0],axis=0)[1]/len(idx0),3)\n",
    "    return size"
   ]
  },
  {
   "cell_type": "code",
   "execution_count": 34,
   "id": "5d8d1679",
   "metadata": {},
   "outputs": [],
   "source": [
    "def  table_power(model,input_set,output_set,adf_set):\n",
    "        result={}\n",
    "        classifier_power=[]\n",
    "        for inputs,outputs in zip(input_set,output_set):\n",
    "            classifier_power.append(model_power(model,inputs,outputs))\n",
    "        result['model']=classifier_power\n",
    "\n",
    "        power_adf1=[]\n",
    "        for adf,inputs,outputs in zip(adf_set,input_set,output_set):\n",
    "            power_adf1.append(adf_power(adf,inputs,outputs,'1%'))\n",
    "        result['adf_1%']=power_adf1\n",
    "        \n",
    "        power_adf5=[]\n",
    "        for adf,inputs,outputs in zip(adf_set,input_set,output_set):\n",
    "            power_adf5.append(adf_power(adf,inputs,outputs,'5%'))\n",
    "        result['adf_5%']=power_adf5\n",
    "        \n",
    "        power_adf10=[]\n",
    "        for adf,inputs,outputs in zip(adf_set,input_set,output_set):\n",
    "            power_adf10.append(adf_power(adf,inputs,outputs,'10%'))\n",
    "        result['adf_10%']=power_adf10\n",
    "        return result"
   ]
  },
  {
   "cell_type": "code",
   "execution_count": 14,
   "id": "97c22890",
   "metadata": {},
   "outputs": [],
   "source": [
    "def model_size(model,inputs,outputs):\n",
    "    in0,out0,idx0=sort_H0(inputs,outputs)\n",
    "    size=np.round(np.sum(np.round(model.predict(to_put(in0,100))),axis=0)[1]/len(idx0),3)\n",
    "    return size\n",
    "def adf_size(adf,inputs,outputs,sig):\n",
    "    in0,out0,idx0=sort_H0(inputs,outputs)\n",
    "    size=np.round(np.sum(adf[sig]['bi'][idx0],axis=0)[1]/len(idx0),3)\n",
    "    return size\n",
    "def model_power(model,inputs,outputs):\n",
    "    in1,out1,idx1=sort_H1(inputs,outputs)\n",
    "    power=np.round(np.sum(np.round(model.predict(to_put(in1,100))),axis=0)[1]/len(idx1),3)\n",
    "    return power\n",
    "def adf_power(adf,inputs,outputs,sig):\n",
    "    in1,out1,idx1=sort_H1(inputs,outputs)\n",
    "    power=np.round(np.sum(adf[sig]['bi'][idx1],axis=0)[1]/len(idx1),3)\n",
    "    return power"
   ]
  },
  {
   "cell_type": "code",
   "execution_count": 16,
   "id": "a358c6c8",
   "metadata": {},
   "outputs": [],
   "source": [
    "def adf_rtest(array): #두 번의 adf test에서 같은 significance level 사용/sig=0 => 1%/ sig=1=>5%/sig=2 => 10%\n",
    "    array=array[:,:100] # \n",
    "    assert array.shape[1]\n",
    "    adf_test_result={}\n",
    "    critical_value=sm.tsa.adfuller(array[0,:100],regression='n')[4]\n",
    "#    critical_value={'1%':-2.33,'5%':-1.65,'10%':-1.28}\n",
    "    for sig_level in ['1%','5%','10%']: # critical value at sig.level 1%,5%,10% each\n",
    "        dic=defaultdict(np.array)\n",
    "        bi=[]\n",
    "        multi=[]\n",
    "        for i in range(0,array.shape[0]):\n",
    "            test_result=sm.tsa.adfuller(array[i],regression='n')\n",
    "            tval=test_result[0]\n",
    "            c_value=critical_value[sig_level]\n",
    "            if tval>=c_value:\n",
    "                bi.append([1,0])\n",
    "                tval_diff=sm.tsa.adfuller(np.diff(array[i]),regression='n')[0]\n",
    "                if tval_diff>=c_value:\n",
    "                    multi.append([1,0,0]) ## diff order 2\n",
    "                else:\n",
    "                    multi.append([0,1,0]) ## diff order 1\n",
    "            else:\n",
    "                bi.append([0,1])\n",
    "                multi.append([0,0,1])\n",
    "        dic['bi']=np.array(bi)\n",
    "        dic['multi']=np.array(multi)\n",
    "        #\n",
    "        adf_test_result[sig_level]=dic\n",
    "    return adf_test_result"
   ]
  },
  {
   "cell_type": "code",
   "execution_count": 37,
   "id": "7dccbe4d",
   "metadata": {},
   "outputs": [],
   "source": [
    "def sort_H1(inputs,outputs): # sorting unit root series for calculating empirical size\n",
    "    inputs_sorted=[]\n",
    "    outputs_sorted=[]\n",
    "    indices=[]\n",
    "    for i,x,y in zip(range(len(inputs)),inputs,outputs):\n",
    "        if y[-1]==1:\n",
    "            inputs_sorted.append(x)\n",
    "            outputs_sorted.append(y)\n",
    "            indices.append(i)\n",
    "    inputs_sorted=np.array(inputs_sorted)\n",
    "    outputs_sorted=np.array(outputs_sorted)\n",
    "    return inputs_sorted,outputs_sorted,indices\n",
    "def sort_H0(inputs,outputs): # sorting unit root series for calculating empirical size\n",
    "    inputs_sorted=[]\n",
    "    outputs_sorted=[]\n",
    "    indices=[]\n",
    "    for i,x,y in zip(range(len(inputs)),inputs,outputs):\n",
    "        if y[-1]==0:\n",
    "            inputs_sorted.append(x)\n",
    "            outputs_sorted.append(y)\n",
    "            indices.append(i)\n",
    "    inputs_sorted=np.array(inputs_sorted)\n",
    "    outputs_sorted=np.array(outputs_sorted)\n",
    "    return inputs_sorted,outputs_sorted,indices"
   ]
  },
  {
   "cell_type": "markdown",
   "id": "92300670",
   "metadata": {},
   "source": [
    "## load training dataset"
   ]
  },
  {
   "cell_type": "code",
   "execution_count": 24,
   "id": "7f00835b",
   "metadata": {},
   "outputs": [],
   "source": [
    "fdin=pd.read_csv('c:/data/dataset/fdin.csv',header=None).to_numpy()\n",
    "fdoutb=pd.read_csv('c:/data/dataset/fdoutb.csv',header=None).to_numpy()\n",
    "fdoutm=pd.read_csv('c:/data/dataset/fdoutm.csv',header=None).to_numpy()\n",
    "#\n",
    "trin=fdin[:100000]\n",
    "valin=fdin[100000:130000]\n",
    "tein=fdin[130000:]\n",
    "#\n",
    "troutb=fdoutb[:100000]\n",
    "valoutb=fdoutb[100000:130000]\n",
    "teoutb=fdoutb[130000:]\n",
    "#\n",
    "troutm=fdoutm[:100000]\n",
    "valoutm=fdoutm[100000:130000]\n",
    "teoutm=fdoutm[130000:]"
   ]
  },
  {
   "cell_type": "markdown",
   "id": "fb97ad40",
   "metadata": {},
   "source": [
    "## load combine dataset"
   ]
  },
  {
   "cell_type": "code",
   "execution_count": 18,
   "id": "040857bc",
   "metadata": {},
   "outputs": [],
   "source": [
    "def split_set(interval,dataset):\n",
    "    split_dataset=[dataset[interval*i:interval*(i+1)] for i in range(6)]\n",
    "    return split_dataset\n",
    "cin=pd.read_csv('c:/data/dataset/cin.csv',header=None).to_numpy()\n",
    "coutb=pd.read_csv('c:/data/dataset/coutb.csv',header=None).to_numpy()\n",
    "coutm=pd.read_csv('c:/data/dataset/coutm.csv',header=None).to_numpy()\n",
    "#\n",
    "cin=split_set(10000,cin)\n",
    "coutb=split_set(10000,coutb)\n",
    "coutm=split_set(10000,coutm)\n",
    "# dataset composed of  10000 samples of each p=0.15,0.3,0.45,0.6.0.75,0.9"
   ]
  },
  {
   "cell_type": "markdown",
   "id": "a7418228",
   "metadata": {},
   "source": [
    "### load trained binary classifier"
   ]
  },
  {
   "cell_type": "code",
   "execution_count": 21,
   "id": "866a48ff",
   "metadata": {},
   "outputs": [],
   "source": [
    "dbL=load_model('c:/data/final/dbL.hdf5') # binary classification model for unit root test"
   ]
  },
  {
   "cell_type": "markdown",
   "id": "ca67e759",
   "metadata": {},
   "source": [
    "### load ADF test result"
   ]
  },
  {
   "cell_type": "code",
   "execution_count": 30,
   "id": "4dd3f356",
   "metadata": {},
   "outputs": [],
   "source": [
    "rd_adf=np.load('c:/data/final/rd_adf.npy',allow_pickle=True).item()"
   ]
  },
  {
   "cell_type": "code",
   "execution_count": 38,
   "id": "9df895ad",
   "metadata": {},
   "outputs": [
    {
     "name": "stdout",
     "output_type": "stream",
     "text": [
      "313/313 [==============================] - 1s 4ms/step - loss: 0.0415 - accuracy: 0.9824\n",
      "{'model': [0.982], 'adf_1%': [0.9505], 'adf_5%': [0.9458], 'adf_10%': [0.9288]}\n",
      "157/157 [==============================] - 1s 2ms/step\n",
      "{'model': [0.018], 'adf_1%': [0.021], 'adf_5%': [0.068], 'adf_10%': [0.117]}\n",
      "157/157 [==============================] - 0s 2ms/step\n",
      "{'model': [0.983], 'adf_1%': [0.922], 'adf_5%': [0.96], 'adf_10%': [0.974]}\n"
     ]
    }
   ],
   "source": [
    "print(table_acc(dbL,[tein],[teoutb],[rd_adf]))\n",
    "print(table_size(dbL,[tein],[teoutb],[rd_adf]))\n",
    "print(table_power(dbL,[tein],[teoutb],[rd_adf]))"
   ]
  },
  {
   "cell_type": "markdown",
   "id": "10f2eca7",
   "metadata": {},
   "source": [
    "### Table 3.1"
   ]
  },
  {
   "cell_type": "code",
   "execution_count": 41,
   "id": "53a8d031",
   "metadata": {},
   "outputs": [
    {
     "data": {
      "text/html": [
       "<div>\n",
       "<style scoped>\n",
       "    .dataframe tbody tr th:only-of-type {\n",
       "        vertical-align: middle;\n",
       "    }\n",
       "\n",
       "    .dataframe tbody tr th {\n",
       "        vertical-align: top;\n",
       "    }\n",
       "\n",
       "    .dataframe thead th {\n",
       "        text-align: right;\n",
       "    }\n",
       "</style>\n",
       "<table border=\"1\" class=\"dataframe\">\n",
       "  <thead>\n",
       "    <tr style=\"text-align: right;\">\n",
       "      <th></th>\n",
       "      <th>Classifier_LSTM</th>\n",
       "      <th>ADF_1%</th>\n",
       "      <th>ADF_5%</th>\n",
       "      <th>ADF_10%</th>\n",
       "    </tr>\n",
       "  </thead>\n",
       "  <tbody>\n",
       "    <tr>\n",
       "      <th>acc</th>\n",
       "      <td>0.982</td>\n",
       "      <td>0.951</td>\n",
       "      <td>0.9458</td>\n",
       "      <td>0.929</td>\n",
       "    </tr>\n",
       "    <tr>\n",
       "      <th>size</th>\n",
       "      <td>0.018</td>\n",
       "      <td>0.021</td>\n",
       "      <td>0.0680</td>\n",
       "      <td>0.117</td>\n",
       "    </tr>\n",
       "    <tr>\n",
       "      <th>power</th>\n",
       "      <td>0.983</td>\n",
       "      <td>0.922</td>\n",
       "      <td>0.9600</td>\n",
       "      <td>0.974</td>\n",
       "    </tr>\n",
       "  </tbody>\n",
       "</table>\n",
       "</div>"
      ],
      "text/plain": [
       "       Classifier_LSTM  ADF_1%  ADF_5%  ADF_10%\n",
       "acc              0.982   0.951  0.9458    0.929\n",
       "size             0.018   0.021  0.0680    0.117\n",
       "power            0.983   0.922  0.9600    0.974"
      ]
     },
     "execution_count": 41,
     "metadata": {},
     "output_type": "execute_result"
    }
   ],
   "source": [
    "pd.DataFrame({'Classifier_LSTM':[.982,.018,0.983],'ADF_1%':[.951,.021,.922],'ADF_5%':[.9458,.068,.960],'ADF_10%':[.929,.117,.974]},index=['acc','size','power'])"
   ]
  },
  {
   "cell_type": "markdown",
   "id": "31c94c18",
   "metadata": {},
   "source": [
    "### load ADF test result of combined testset"
   ]
  },
  {
   "cell_type": "code",
   "execution_count": 46,
   "id": "066a38c6",
   "metadata": {},
   "outputs": [],
   "source": [
    "c1_adf=np.load('c:/data/final/c1_adf.npy',allow_pickle=True).item()\n",
    "c2_adf=np.load('c:/data/final/c2_adf.npy',allow_pickle=True).item()\n",
    "c3_adf=np.load('c:/data/final/c3_adf.npy',allow_pickle=True).item()\n",
    "c4_adf=np.load('c:/data/final/c4_adf.npy',allow_pickle=True).item()\n",
    "c5_adf=np.load('c:/data/final/c5_adf.npy',allow_pickle=True).item()\n",
    "c6_adf=np.load('c:/data/final/c6_adf.npy',allow_pickle=True).item()\n",
    "c_adf=[c1_adf,c2_adf,c3_adf,c4_adf,c5_adf,c6_adf]"
   ]
  },
  {
   "cell_type": "markdown",
   "id": "84b916d5",
   "metadata": {},
   "source": [
    "### load trained model- 3 class classifier"
   ]
  },
  {
   "cell_type": "code",
   "execution_count": 47,
   "id": "1e26d2d4",
   "metadata": {},
   "outputs": [
    {
     "name": "stdout",
     "output_type": "stream",
     "text": [
      "313/313 [==============================] - 2s 5ms/step - loss: 0.0615 - accuracy: 0.9779\n",
      "313/313 [==============================] - 1s 4ms/step - loss: 0.0760 - accuracy: 0.9744\n",
      "313/313 [==============================] - 1s 4ms/step - loss: 0.0862 - accuracy: 0.9711\n",
      "313/313 [==============================] - 1s 4ms/step - loss: 0.1163 - accuracy: 0.9642\n",
      "313/313 [==============================] - 1s 4ms/step - loss: 0.1374 - accuracy: 0.9590\n",
      "313/313 [==============================] - 1s 4ms/step - loss: 0.1454 - accuracy: 0.9556\n"
     ]
    },
    {
     "data": {
      "text/plain": [
       "{'model': [0.978, 0.974, 0.971, 0.964, 0.959, 0.956],\n",
       " 'adf_1%': [0.9222, 0.9266, 0.9316, 0.9371, 0.9413, 0.9494],\n",
       " 'adf_5%': [0.9483, 0.9395, 0.9317, 0.9203, 0.9099, 0.905],\n",
       " 'adf_10%': [0.9524, 0.9339, 0.9193, 0.8984, 0.8764, 0.8668]}"
      ]
     },
     "execution_count": 47,
     "metadata": {},
     "output_type": "execute_result"
    }
   ],
   "source": [
    "t4_1=table_acc(dbL,cin,coutb,c_adf)\n",
    "t4_1"
   ]
  },
  {
   "cell_type": "code",
   "execution_count": 48,
   "id": "7104ec46",
   "metadata": {},
   "outputs": [
    {
     "data": {
      "image/png": "[encoded data removed]",
      "text/plain": [
       "<Figure size 600x400 with 1 Axes>"
      ]
     },
     "metadata": {},
     "output_type": "display_data"
    }
   ],
   "source": [
    "#import matplotlib.pyplot as plt\n",
    "\n",
    "# x축 값과 y축 값 재설정 (이미지 재생성 목적)\n",
    "x_vals = [0.15, 0.3, 0.45, 0.6, 0.75, 0.9]\n",
    "classifier = [0.978, 0.974, 0.970, 0.967, 0.966, 0.963]\n",
    "adf_1 = [0.920, 0.925, 0.932, 0.938, 0.943, 0.947]\n",
    "adf_5 = [0.950, 0.940, 0.930, 0.920, 0.910, 0.905]\n",
    "adf_10 = [0.955, 0.935, 0.910, 0.890, 0.875, 0.870]\n",
    "\n",
    "# 새로운 plot 생성\n",
    "plt.figure(figsize=(6, 4))\n",
    "plt.plot(x_vals, classifier, label='classifier')\n",
    "plt.plot(x_vals, adf_1, label='adf_1%', linestyle='--')\n",
    "plt.plot(x_vals, adf_5, label='adf_5%', linestyle='--')\n",
    "plt.plot(x_vals, adf_10, label='adf_10%', linestyle='--')\n",
    "\n",
    "plt.xlabel(r'Proportion of unit root time series ($p$) in dataset', labelpad=10)\n",
    "plt.ylabel('Accuracy')\n",
    "plt.xticks(x_vals, [r'$p=0.15$', r'$p=0.3$', r'$p=0.45$', r'$p=0.6$', r'$p=0.75$', r'$p=0.9$'])\n",
    "plt.legend()\n",
    "plt.tight_layout()\n",
    "#plt.savefig('plzzzz.png',dpi=300)"
   ]
  },
  {
   "cell_type": "markdown",
   "id": "982bd634",
   "metadata": {},
   "source": [
    "### load trained 3-class classifier"
   ]
  },
  {
   "cell_type": "code",
   "execution_count": 50,
   "id": "e7ace9c3",
   "metadata": {},
   "outputs": [],
   "source": [
    "dmL=load_model('c:/data/final/dmL.hdf5')"
   ]
  },
  {
   "cell_type": "code",
   "execution_count": 53,
   "id": "e40072de",
   "metadata": {},
   "outputs": [
    {
     "name": "stdout",
     "output_type": "stream",
     "text": [
      "313/313 [==============================] - 2s 4ms/step - loss: 0.1043 - accuracy: 0.9595\n",
      "{'model': [0.96], 'adf_1%': [0.9269], 'adf_5%': [0.9211], 'adf_10%': [0.8972]}\n"
     ]
    }
   ],
   "source": [
    "print(table_accm(dmL,[tein],[teoutm],[rd_adf]))"
   ]
  },
  {
   "cell_type": "markdown",
   "id": "709a3a0d",
   "metadata": {},
   "source": [
    "### comparison between 3-class classifier and ADF test"
   ]
  },
  {
   "cell_type": "code",
   "execution_count": 54,
   "id": "7597bb3e",
   "metadata": {},
   "outputs": [
    {
     "data": {
      "text/html": [
       "<div>\n",
       "<style scoped>\n",
       "    .dataframe tbody tr th:only-of-type {\n",
       "        vertical-align: middle;\n",
       "    }\n",
       "\n",
       "    .dataframe tbody tr th {\n",
       "        vertical-align: top;\n",
       "    }\n",
       "\n",
       "    .dataframe thead th {\n",
       "        text-align: right;\n",
       "    }\n",
       "</style>\n",
       "<table border=\"1\" class=\"dataframe\">\n",
       "  <thead>\n",
       "    <tr style=\"text-align: right;\">\n",
       "      <th></th>\n",
       "      <th>Classifier_LSTM</th>\n",
       "      <th>ADF_1%</th>\n",
       "      <th>ADF_5%</th>\n",
       "      <th>ADF_10%</th>\n",
       "    </tr>\n",
       "  </thead>\n",
       "  <tbody>\n",
       "    <tr>\n",
       "      <th>acc</th>\n",
       "      <td>0.96</td>\n",
       "      <td>0.927</td>\n",
       "      <td>0.921</td>\n",
       "      <td>0.897</td>\n",
       "    </tr>\n",
       "  </tbody>\n",
       "</table>\n",
       "</div>"
      ],
      "text/plain": [
       "     Classifier_LSTM  ADF_1%  ADF_5%  ADF_10%\n",
       "acc             0.96   0.927   0.921    0.897"
      ]
     },
     "execution_count": 54,
     "metadata": {},
     "output_type": "execute_result"
    }
   ],
   "source": [
    "pd.DataFrame({'Classifier_LSTM':[.96],'ADF_1%':[.927],'ADF_5%':[.921],'ADF_10%':[.897]},index=['acc'])"
   ]
  },
  {
   "cell_type": "code",
   "execution_count": 51,
   "id": "eedebd13",
   "metadata": {},
   "outputs": [],
   "source": [
    "##lur0,ur1,ur2  순서\n",
    "minn=pd.read_csv('c:/data/dataset/minn.csv',header=None).to_numpy()\n",
    "moutb=pd.read_csv('c:/data/dataset/moutb.csv',header=None).to_numpy()\n",
    "moutm=pd.read_csv('c:/data/dataset/moutm.csv',header=None).to_numpy()\n",
    "m_adf=np.load('c:/data/m_adf.npy',allow_pickle=True).item() #"
   ]
  },
  {
   "cell_type": "code",
   "execution_count": 52,
   "id": "b171d89d",
   "metadata": {},
   "outputs": [
    {
     "name": "stdout",
     "output_type": "stream",
     "text": [
      "313/313 [==============================] - 1s 3ms/step\n",
      "[   0.  191. 9809.]\n",
      "313/313 [==============================] - 1s 2ms/step\n",
      "[ 582. 9052.  366.]\n",
      "313/313 [==============================] - 1s 2ms/step\n",
      "[9749.  251.    0.]\n"
     ]
    }
   ],
   "source": [
    "print(np.sum(np.round(dmL.predict(to_put(minn[:10000],100))),axis=0)) # ur0\n",
    "print(np.sum(np.round(dmL.predict(to_put(minn[10000:20000],100))),axis=0)) # ur1\n",
    "print(np.sum(np.round(dmL.predict(to_put(minn[20000:],100))),axis=0)) # ur2"
   ]
  },
  {
   "cell_type": "markdown",
   "id": "56d9a18a",
   "metadata": {},
   "source": [
    "## plot"
   ]
  },
  {
   "cell_type": "code",
   "execution_count": 27,
   "id": "c31eb19e",
   "metadata": {},
   "outputs": [
    {
     "data": {
      "image/png": "[encoded data removed]",
      "text/plain": [
       "<Figure size 600x500 with 1 Axes>"
      ]
     },
     "metadata": {},
     "output_type": "display_data"
    }
   ],
   "source": [
    "classes = ['ur2', 'ur1', 'ur0']\n",
    "classifier_acc = [9749/10000,9052/10000,9809/10000]\n",
    "# ur2,ur1,ur0순\n",
    "adf_1 = [0.9402, 0.9124, 0.935]\n",
    "adf_5 = [0.7989, 0.8744, 0.9723]\n",
    "adf_10 = [0.6658, 0.7999, 0.9819]\n",
    "\n",
    "x = range(len(classes))\n",
    "width = 0.2  # 막대 너비\n",
    "\n",
    "# 그래프 생성\n",
    "plt.figure(figsize=(6, 5))\n",
    "plt.bar([i - 1.5*width for i in x], classifier_acc, width=width, label='Classifier', color='#4a90e2')   # 파랑\n",
    "plt.bar([i - 0.5*width for i in x], adf_1, width=width, label='ADF (1%)', color='#e94d4d')              # 진한 빨강\n",
    "plt.bar([i + 0.5*width for i in x], adf_5, width=width, label='ADF (5%)', color='#f26b6b')              # 중간 빨강\n",
    "plt.bar([i + 1.5*width for i in x], adf_10, width=width, label='ADF (10%)', color='#f9a1a1')            # 연한 빨강\n",
    "\n",
    "plt.xticks(x, classes)\n",
    "plt.ylim(0.6, 1.0)\n",
    "plt.ylabel('Accuracy')\n",
    "#plt.title('Class-wise Accuracy Comparison')\n",
    "plt.legend(loc='center left', bbox_to_anchor=(0.175,0.89))\n",
    "#plt.legend(loc='center left', bbox_to_anchor=(1, 0.5))\n",
    "plt.grid(axis='y', linestyle='--', linewidth=0.5)\n",
    "plt.tight_layout()\n",
    "plt.savefig('barchartf.png')\n",
    "plt.show()"
   ]
  },
  {
   "cell_type": "markdown",
   "id": "4150da2e",
   "metadata": {},
   "source": [
    "- barchart. ur2 class에서 LSTM classifier와 ADF검정간의 성능 차이가 두드러짐.\n",
    "- ADF 검정은 유의 수준에 따라, 시계열의 단위근 갯수에 따라 큰 성능 차이를 보임.\n",
    "- 그에 반해 LSTM classifier는 상대적으로 안정적인 성능을 보임."
   ]
  },
  {
   "cell_type": "code",
   "execution_count": 28,
   "id": "fb9f0afd",
   "metadata": {},
   "outputs": [
    {
     "data": {
      "image/png": "[encoded data removed]",
      "text/plain": [
       "<Figure size 600x500 with 2 Axes>"
      ]
     },
     "metadata": {},
     "output_type": "display_data"
    }
   ],
   "source": [
    "conf_matrix = np.array([\n",
    "    [9749,251 ,0 ],\n",
    "    [582,9052 ,366 ],\n",
    "    [0,191 ,9809 ]\n",
    "])\n",
    "classes = ['ur2', 'ur1', 'ur0']\n",
    "# 그림 저장\n",
    "plt.figure(figsize=(6, 5))\n",
    "sns.heatmap(conf_matrix, annot=True, fmt=\"d\", cmap=\"YlGnBu\", linewidths=0.5,\n",
    "            xticklabels=classes, yticklabels=classes, cbar=True)\n",
    "plt.xlabel(\"Predicted Label\")\n",
    "plt.ylabel(\"True Label\")\n",
    "#plt.title(\"Confusion Matrix -Heatmap\")\n",
    "plt.tight_layout()\n",
    "plt.savefig('conf.png')"
   ]
  },
  {
   "cell_type": "markdown",
   "id": "34ef1c71",
   "metadata": {},
   "source": [
    "- ur2,ur0 class에서 높은 분류 성능을 보임.\n",
    "- 단위근 시계열인 ur2,ur1클래스만 봤을 때, 시계열에 단위근이 존재하면 높은 확률로 단위근을 인지하는 걸 알 수 있음.\n",
    "- 다만 ur1을 ur2로 잘못 판단하는 경향이 있는 것으로 보아, classifier는 시계열의 비정상성을 본래보다 다소 강하게 인식하는 것으로 보임."
   ]
  }
 ],
 "metadata": {
  "kernelspec": {
   "display_name": "gpu_tf",
   "language": "python",
   "name": "venvv"
  },
  "language_info": {
   "codemirror_mode": {
    "name": "ipython",
    "version": 3
   },
   "file_extension": ".py",
   "mimetype": "text/x-python",
   "name": "python",
   "nbconvert_exporter": "python",
   "pygments_lexer": "ipython3",
   "version": "3.9.21"
  }
 },
 "nbformat": 4,
 "nbformat_minor": 5
}
