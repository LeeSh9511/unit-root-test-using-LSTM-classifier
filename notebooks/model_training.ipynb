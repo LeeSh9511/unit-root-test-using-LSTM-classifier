{
 "cells": [
  {
   "cell_type": "code",
   "execution_count": 3,
   "id": "544a2c2f",
   "metadata": {},
   "outputs": [],
   "source": [
    "from keras.callbacks import EarlyStopping\n",
    "from pmdarima.utils import diff_inv\n",
    "import statsmodels.api as sm\n",
    "import statsmodels\n",
    "import random\n",
    "import itertools\n",
    "import numpy as np\n",
    "import pandas as pd\n",
    "import tensorflow as tf\n",
    "from tensorflow import keras\n",
    "from tensorflow.keras.layers import LSTM,Dense\n",
    "from tensorflow.keras.models import Sequential,load_model,Model\n",
    "from statsmodels.tsa.arima_process import arma_generate_sample\n",
    "from tensorflow.keras.callbacks import ModelCheckpoint\n",
    "from collections import defaultdict,Counter\n",
    "from keras.callbacks import EarlyStopping"
   ]
  },
  {
   "cell_type": "code",
   "execution_count": 4,
   "id": "c929c07c",
   "metadata": {},
   "outputs": [],
   "source": [
    "def to_put(array,timesteps):\n",
    "    array=array[:,:timesteps]\n",
    "    array=array.reshape((array.shape[0],array.shape[1],1))\n",
    "    return array"
   ]
  },
  {
   "cell_type": "code",
   "execution_count": 11,
   "id": "536351c4",
   "metadata": {},
   "outputs": [],
   "source": [
    "fdin=pd.read_csv('c:/data/dataset/fdin.csv',header=None).to_numpy()\n",
    "fdoutb=pd.read_csv('c:/data/dataset/fdoutb.csv',header=None).to_numpy()\n",
    "fdoutm=pd.read_csv('c:/data/dataset/fdoutm.csv',header=None).to_numpy()\n",
    "#\n",
    "trin=fdin[:100000]\n",
    "valin=fdin[100000:130000]\n",
    "tein=fdin[130000:]\n",
    "#\n",
    "troutb=fdoutb[:100000]\n",
    "valoutb=fdoutb[100000:130000]\n",
    "teoutb=fdoutb[130000:]\n",
    "#\n",
    "troutm=fdoutm[:100000]\n",
    "valoutm=fdoutm[100000:130000]\n",
    "teoutm=fdoutm[130000:]"
   ]
  },
  {
   "cell_type": "code",
   "execution_count": null,
   "id": "9e625106",
   "metadata": {},
   "outputs": [],
   "source": [
    "## training binary classifier for statistical hypothesis test\n",
    "dbL=Sequential([\n",
    "    LSTM(30,input_shape=(100,1)),\n",
    "    Dense(2,activation='softmax')\n",
    "])\n",
    "dbL.compile(loss='categorical_crossentropy',metrics=['accuracy'],optimizer='adam')\n",
    "early_stopping = EarlyStopping(monitor='val_loss',patience=10,restore_best_weights=True)\n",
    "checkpoint=ModelCheckpoint('c:/data/model_weights/dbL.hdf5',monitor='val_loss',verbose=0,mode='min',save_best_only=True)\n",
    "dbL_history=dbL.fit(to_put(trin,100),troutb,\n",
    "                         validation_data=(to_put(valin,100),valoutb),batch_size=1000,epochs=200,\n",
    "                         callbacks=[checkpoint,early_stopping],verbose=0)"
   ]
  },
  {
   "cell_type": "code",
   "execution_count": null,
   "id": "4be15659",
   "metadata": {},
   "outputs": [],
   "source": [
    "# training 3-class classifier for predicting number of unit roots \n",
    "dmL=Sequential([\n",
    "    LSTM(30,input_shape=(100,1)),\n",
    "    Dense(3,activation='softmax')\n",
    "])\n",
    "dmL.compile(loss='categorical_crossentropy',metrics=['accuracy'],optimizer='adam')\n",
    "early_stopping = EarlyStopping(monitor='val_loss',patience=10,restore_best_weights=True)\n",
    "checkpoint=ModelCheckpoint('c:/data/model_weights/dmL.hdf5',monitor='val_loss',verbose=0,mode='min',save_best_only=True)\n",
    "dmL_history=dmL.fit(to_put(trin,100),troutm,\n",
    "                         validation_data=(to_put(valin,100),valoutm),batch_size=1000,epochs=200,\n",
    "                         callbacks=[checkpoint,early_stopping],verbose=0)"
   ]
  }
 ],
 "metadata": {
  "kernelspec": {
   "display_name": "gpu_tf",
   "language": "python",
   "name": "venvv"
  },
  "language_info": {
   "codemirror_mode": {
    "name": "ipython",
    "version": 3
   },
   "file_extension": ".py",
   "mimetype": "text/x-python",
   "name": "python",
   "nbconvert_exporter": "python",
   "pygments_lexer": "ipython3",
   "version": "3.9.21"
  }
 },
 "nbformat": 4,
 "nbformat_minor": 5
}
